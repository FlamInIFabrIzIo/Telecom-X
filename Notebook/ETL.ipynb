{
 "cells": [
  {
   "cell_type": "code",
   "execution_count": 1,
   "id": "7d7ca47f",
   "metadata": {},
   "outputs": [],
   "source": [
    "import pandas as pd "
   ]
  },
  {
   "cell_type": "code",
   "execution_count": 3,
   "id": "96c0741c",
   "metadata": {},
   "outputs": [],
   "source": [
    "df = pd.read_json(r'C:\\Users\\Usuario\\Desktop\\proyectos\\Telecom-X\\data\\row\\TelecomX_Data.json')"
   ]
  },
  {
   "cell_type": "code",
   "execution_count": 12,
   "id": "38526432",
   "metadata": {},
   "outputs": [
    {
     "data": {
      "text/plain": [
       "(7267, 6)"
      ]
     },
     "execution_count": 12,
     "metadata": {},
     "output_type": "execute_result"
    }
   ],
   "source": [
    "df.shape"
   ]
  },
  {
   "cell_type": "code",
   "execution_count": 4,
   "id": "36e9b56e",
   "metadata": {},
   "outputs": [
    {
     "data": {
      "application/vnd.microsoft.datawrangler.viewer.v0+json": {
       "columns": [
        {
         "name": "index",
         "rawType": "int64",
         "type": "integer"
        },
        {
         "name": "customerID",
         "rawType": "object",
         "type": "string"
        },
        {
         "name": "Churn",
         "rawType": "object",
         "type": "string"
        },
        {
         "name": "customer",
         "rawType": "object",
         "type": "unknown"
        },
        {
         "name": "phone",
         "rawType": "object",
         "type": "unknown"
        },
        {
         "name": "internet",
         "rawType": "object",
         "type": "unknown"
        },
        {
         "name": "account",
         "rawType": "object",
         "type": "unknown"
        }
       ],
       "ref": "2173617c-0f14-43ee-9ad6-be7e3316c74c",
       "rows": [
        [
         "0",
         "0002-ORFBO",
         "No",
         "{'gender': 'Female', 'SeniorCitizen': 0, 'Partner': 'Yes', 'Dependents': 'Yes', 'tenure': 9}",
         "{'PhoneService': 'Yes', 'MultipleLines': 'No'}",
         "{'InternetService': 'DSL', 'OnlineSecurity': 'No', 'OnlineBackup': 'Yes', 'DeviceProtection': 'No', 'TechSupport': 'Yes', 'StreamingTV': 'Yes', 'StreamingMovies': 'No'}",
         "{'Contract': 'One year', 'PaperlessBilling': 'Yes', 'PaymentMethod': 'Mailed check', 'Charges': {'Monthly': 65.6, 'Total': '593.3'}}"
        ],
        [
         "1",
         "0003-MKNFE",
         "No",
         "{'gender': 'Male', 'SeniorCitizen': 0, 'Partner': 'No', 'Dependents': 'No', 'tenure': 9}",
         "{'PhoneService': 'Yes', 'MultipleLines': 'Yes'}",
         "{'InternetService': 'DSL', 'OnlineSecurity': 'No', 'OnlineBackup': 'No', 'DeviceProtection': 'No', 'TechSupport': 'No', 'StreamingTV': 'No', 'StreamingMovies': 'Yes'}",
         "{'Contract': 'Month-to-month', 'PaperlessBilling': 'No', 'PaymentMethod': 'Mailed check', 'Charges': {'Monthly': 59.9, 'Total': '542.4'}}"
        ],
        [
         "2",
         "0004-TLHLJ",
         "Yes",
         "{'gender': 'Male', 'SeniorCitizen': 0, 'Partner': 'No', 'Dependents': 'No', 'tenure': 4}",
         "{'PhoneService': 'Yes', 'MultipleLines': 'No'}",
         "{'InternetService': 'Fiber optic', 'OnlineSecurity': 'No', 'OnlineBackup': 'No', 'DeviceProtection': 'Yes', 'TechSupport': 'No', 'StreamingTV': 'No', 'StreamingMovies': 'No'}",
         "{'Contract': 'Month-to-month', 'PaperlessBilling': 'Yes', 'PaymentMethod': 'Electronic check', 'Charges': {'Monthly': 73.9, 'Total': '280.85'}}"
        ],
        [
         "3",
         "0011-IGKFF",
         "Yes",
         "{'gender': 'Male', 'SeniorCitizen': 1, 'Partner': 'Yes', 'Dependents': 'No', 'tenure': 13}",
         "{'PhoneService': 'Yes', 'MultipleLines': 'No'}",
         "{'InternetService': 'Fiber optic', 'OnlineSecurity': 'No', 'OnlineBackup': 'Yes', 'DeviceProtection': 'Yes', 'TechSupport': 'No', 'StreamingTV': 'Yes', 'StreamingMovies': 'Yes'}",
         "{'Contract': 'Month-to-month', 'PaperlessBilling': 'Yes', 'PaymentMethod': 'Electronic check', 'Charges': {'Monthly': 98.0, 'Total': '1237.85'}}"
        ],
        [
         "4",
         "0013-EXCHZ",
         "Yes",
         "{'gender': 'Female', 'SeniorCitizen': 1, 'Partner': 'Yes', 'Dependents': 'No', 'tenure': 3}",
         "{'PhoneService': 'Yes', 'MultipleLines': 'No'}",
         "{'InternetService': 'Fiber optic', 'OnlineSecurity': 'No', 'OnlineBackup': 'No', 'DeviceProtection': 'No', 'TechSupport': 'Yes', 'StreamingTV': 'Yes', 'StreamingMovies': 'No'}",
         "{'Contract': 'Month-to-month', 'PaperlessBilling': 'Yes', 'PaymentMethod': 'Mailed check', 'Charges': {'Monthly': 83.9, 'Total': '267.4'}}"
        ]
       ],
       "shape": {
        "columns": 6,
        "rows": 5
       }
      },
      "text/html": [
       "<div>\n",
       "<style scoped>\n",
       "    .dataframe tbody tr th:only-of-type {\n",
       "        vertical-align: middle;\n",
       "    }\n",
       "\n",
       "    .dataframe tbody tr th {\n",
       "        vertical-align: top;\n",
       "    }\n",
       "\n",
       "    .dataframe thead th {\n",
       "        text-align: right;\n",
       "    }\n",
       "</style>\n",
       "<table border=\"1\" class=\"dataframe\">\n",
       "  <thead>\n",
       "    <tr style=\"text-align: right;\">\n",
       "      <th></th>\n",
       "      <th>customerID</th>\n",
       "      <th>Churn</th>\n",
       "      <th>customer</th>\n",
       "      <th>phone</th>\n",
       "      <th>internet</th>\n",
       "      <th>account</th>\n",
       "    </tr>\n",
       "  </thead>\n",
       "  <tbody>\n",
       "    <tr>\n",
       "      <th>0</th>\n",
       "      <td>0002-ORFBO</td>\n",
       "      <td>No</td>\n",
       "      <td>{'gender': 'Female', 'SeniorCitizen': 0, 'Part...</td>\n",
       "      <td>{'PhoneService': 'Yes', 'MultipleLines': 'No'}</td>\n",
       "      <td>{'InternetService': 'DSL', 'OnlineSecurity': '...</td>\n",
       "      <td>{'Contract': 'One year', 'PaperlessBilling': '...</td>\n",
       "    </tr>\n",
       "    <tr>\n",
       "      <th>1</th>\n",
       "      <td>0003-MKNFE</td>\n",
       "      <td>No</td>\n",
       "      <td>{'gender': 'Male', 'SeniorCitizen': 0, 'Partne...</td>\n",
       "      <td>{'PhoneService': 'Yes', 'MultipleLines': 'Yes'}</td>\n",
       "      <td>{'InternetService': 'DSL', 'OnlineSecurity': '...</td>\n",
       "      <td>{'Contract': 'Month-to-month', 'PaperlessBilli...</td>\n",
       "    </tr>\n",
       "    <tr>\n",
       "      <th>2</th>\n",
       "      <td>0004-TLHLJ</td>\n",
       "      <td>Yes</td>\n",
       "      <td>{'gender': 'Male', 'SeniorCitizen': 0, 'Partne...</td>\n",
       "      <td>{'PhoneService': 'Yes', 'MultipleLines': 'No'}</td>\n",
       "      <td>{'InternetService': 'Fiber optic', 'OnlineSecu...</td>\n",
       "      <td>{'Contract': 'Month-to-month', 'PaperlessBilli...</td>\n",
       "    </tr>\n",
       "    <tr>\n",
       "      <th>3</th>\n",
       "      <td>0011-IGKFF</td>\n",
       "      <td>Yes</td>\n",
       "      <td>{'gender': 'Male', 'SeniorCitizen': 1, 'Partne...</td>\n",
       "      <td>{'PhoneService': 'Yes', 'MultipleLines': 'No'}</td>\n",
       "      <td>{'InternetService': 'Fiber optic', 'OnlineSecu...</td>\n",
       "      <td>{'Contract': 'Month-to-month', 'PaperlessBilli...</td>\n",
       "    </tr>\n",
       "    <tr>\n",
       "      <th>4</th>\n",
       "      <td>0013-EXCHZ</td>\n",
       "      <td>Yes</td>\n",
       "      <td>{'gender': 'Female', 'SeniorCitizen': 1, 'Part...</td>\n",
       "      <td>{'PhoneService': 'Yes', 'MultipleLines': 'No'}</td>\n",
       "      <td>{'InternetService': 'Fiber optic', 'OnlineSecu...</td>\n",
       "      <td>{'Contract': 'Month-to-month', 'PaperlessBilli...</td>\n",
       "    </tr>\n",
       "  </tbody>\n",
       "</table>\n",
       "</div>"
      ],
      "text/plain": [
       "   customerID Churn                                           customer  \\\n",
       "0  0002-ORFBO    No  {'gender': 'Female', 'SeniorCitizen': 0, 'Part...   \n",
       "1  0003-MKNFE    No  {'gender': 'Male', 'SeniorCitizen': 0, 'Partne...   \n",
       "2  0004-TLHLJ   Yes  {'gender': 'Male', 'SeniorCitizen': 0, 'Partne...   \n",
       "3  0011-IGKFF   Yes  {'gender': 'Male', 'SeniorCitizen': 1, 'Partne...   \n",
       "4  0013-EXCHZ   Yes  {'gender': 'Female', 'SeniorCitizen': 1, 'Part...   \n",
       "\n",
       "                                             phone  \\\n",
       "0   {'PhoneService': 'Yes', 'MultipleLines': 'No'}   \n",
       "1  {'PhoneService': 'Yes', 'MultipleLines': 'Yes'}   \n",
       "2   {'PhoneService': 'Yes', 'MultipleLines': 'No'}   \n",
       "3   {'PhoneService': 'Yes', 'MultipleLines': 'No'}   \n",
       "4   {'PhoneService': 'Yes', 'MultipleLines': 'No'}   \n",
       "\n",
       "                                            internet  \\\n",
       "0  {'InternetService': 'DSL', 'OnlineSecurity': '...   \n",
       "1  {'InternetService': 'DSL', 'OnlineSecurity': '...   \n",
       "2  {'InternetService': 'Fiber optic', 'OnlineSecu...   \n",
       "3  {'InternetService': 'Fiber optic', 'OnlineSecu...   \n",
       "4  {'InternetService': 'Fiber optic', 'OnlineSecu...   \n",
       "\n",
       "                                             account  \n",
       "0  {'Contract': 'One year', 'PaperlessBilling': '...  \n",
       "1  {'Contract': 'Month-to-month', 'PaperlessBilli...  \n",
       "2  {'Contract': 'Month-to-month', 'PaperlessBilli...  \n",
       "3  {'Contract': 'Month-to-month', 'PaperlessBilli...  \n",
       "4  {'Contract': 'Month-to-month', 'PaperlessBilli...  "
      ]
     },
     "execution_count": 4,
     "metadata": {},
     "output_type": "execute_result"
    }
   ],
   "source": [
    "df.head()"
   ]
  },
  {
   "cell_type": "code",
   "execution_count": 14,
   "id": "34a32b74",
   "metadata": {},
   "outputs": [
    {
     "data": {
      "text/plain": [
       "['customerID', 'Churn', 'customer', 'phone', 'internet', 'account']"
      ]
     },
     "execution_count": 14,
     "metadata": {},
     "output_type": "execute_result"
    }
   ],
   "source": [
    "columnas = list(df.columns)\n",
    "columnas"
   ]
  },
  {
   "cell_type": "code",
   "execution_count": 5,
   "id": "c95e62bf",
   "metadata": {},
   "outputs": [],
   "source": [
    "df_normalizado = pd.json_normalize(df['customer'])\n",
    "#df_normalizado.to_json('customer_normalizado.json')"
   ]
  },
  {
   "cell_type": "code",
   "execution_count": 6,
   "id": "8ad31295",
   "metadata": {},
   "outputs": [
    {
     "data": {
      "application/vnd.microsoft.datawrangler.viewer.v0+json": {
       "columns": [
        {
         "name": "index",
         "rawType": "int64",
         "type": "integer"
        },
        {
         "name": "gender",
         "rawType": "object",
         "type": "string"
        },
        {
         "name": "SeniorCitizen",
         "rawType": "int64",
         "type": "integer"
        },
        {
         "name": "Partner",
         "rawType": "object",
         "type": "string"
        },
        {
         "name": "Dependents",
         "rawType": "object",
         "type": "string"
        },
        {
         "name": "tenure",
         "rawType": "int64",
         "type": "integer"
        }
       ],
       "ref": "d1e77f3d-beeb-4103-a170-51c86e4910e5",
       "rows": [
        [
         "0",
         "Female",
         "0",
         "Yes",
         "Yes",
         "9"
        ],
        [
         "1",
         "Male",
         "0",
         "No",
         "No",
         "9"
        ],
        [
         "2",
         "Male",
         "0",
         "No",
         "No",
         "4"
        ],
        [
         "3",
         "Male",
         "1",
         "Yes",
         "No",
         "13"
        ],
        [
         "4",
         "Female",
         "1",
         "Yes",
         "No",
         "3"
        ],
        [
         "5",
         "Female",
         "0",
         "No",
         "Yes",
         "9"
        ],
        [
         "6",
         "Female",
         "1",
         "Yes",
         "No",
         "71"
        ],
        [
         "7",
         "Male",
         "0",
         "Yes",
         "No",
         "63"
        ],
        [
         "8",
         "Female",
         "1",
         "No",
         "No",
         "7"
        ],
        [
         "9",
         "Female",
         "0",
         "Yes",
         "Yes",
         "65"
        ],
        [
         "10",
         "Male",
         "0",
         "No",
         "No",
         "54"
        ],
        [
         "11",
         "Female",
         "0",
         "Yes",
         "Yes",
         "72"
        ],
        [
         "12",
         "Female",
         "0",
         "Yes",
         "No",
         "5"
        ],
        [
         "13",
         "Female",
         "0",
         "No",
         "No",
         "72"
        ],
        [
         "14",
         "Female",
         "0",
         "No",
         "No",
         "56"
        ],
        [
         "15",
         "Female",
         "0",
         "Yes",
         "Yes",
         "71"
        ],
        [
         "16",
         "Female",
         "0",
         "Yes",
         "Yes",
         "34"
        ],
        [
         "17",
         "Female",
         "1",
         "No",
         "No",
         "1"
        ],
        [
         "18",
         "Male",
         "1",
         "No",
         "No",
         "45"
        ],
        [
         "19",
         "Male",
         "1",
         "No",
         "No",
         "1"
        ],
        [
         "20",
         "Female",
         "1",
         "Yes",
         "No",
         "50"
        ],
        [
         "21",
         "Female",
         "0",
         "Yes",
         "No",
         "13"
        ],
        [
         "22",
         "Female",
         "0",
         "Yes",
         "Yes",
         "23"
        ],
        [
         "23",
         "Female",
         "0",
         "No",
         "No",
         "3"
        ],
        [
         "24",
         "Female",
         "0",
         "Yes",
         "Yes",
         "4"
        ],
        [
         "25",
         "Female",
         "0",
         "Yes",
         "Yes",
         "1"
        ],
        [
         "26",
         "Female",
         "0",
         "Yes",
         "Yes",
         "55"
        ],
        [
         "27",
         "Male",
         "0",
         "Yes",
         "Yes",
         "54"
        ],
        [
         "28",
         "Male",
         "0",
         "No",
         "No",
         "26"
        ],
        [
         "29",
         "Female",
         "0",
         "Yes",
         "Yes",
         "69"
        ],
        [
         "30",
         "Female",
         "0",
         "No",
         "No",
         "11"
        ],
        [
         "31",
         "Male",
         "0",
         "Yes",
         "Yes",
         "37"
        ],
        [
         "32",
         "Female",
         "0",
         "Yes",
         "No",
         "49"
        ],
        [
         "33",
         "Male",
         "0",
         "Yes",
         "No",
         "66"
        ],
        [
         "34",
         "Female",
         "0",
         "No",
         "No",
         "67"
        ],
        [
         "35",
         "Male",
         "0",
         "Yes",
         "Yes",
         "20"
        ],
        [
         "36",
         "Female",
         "0",
         "No",
         "Yes",
         "43"
        ],
        [
         "37",
         "Female",
         "0",
         "Yes",
         "No",
         "55"
        ],
        [
         "38",
         "Female",
         "0",
         "Yes",
         "No",
         "59"
        ],
        [
         "39",
         "Female",
         "0",
         "Yes",
         "Yes",
         "12"
        ],
        [
         "40",
         "Male",
         "0",
         "Yes",
         "Yes",
         "27"
        ],
        [
         "41",
         "Male",
         "1",
         "No",
         "No",
         "2"
        ],
        [
         "42",
         "Female",
         "0",
         "No",
         "No",
         "27"
        ],
        [
         "43",
         "Male",
         "0",
         "Yes",
         "Yes",
         "25"
        ],
        [
         "44",
         "Male",
         "0",
         "Yes",
         "Yes",
         "25"
        ],
        [
         "45",
         "Male",
         "0",
         "No",
         "Yes",
         "29"
        ],
        [
         "46",
         "Male",
         "0",
         "Yes",
         "No",
         "72"
        ],
        [
         "47",
         "Female",
         "0",
         "No",
         "No",
         "14"
        ],
        [
         "48",
         "Female",
         "0",
         "No",
         "No",
         "35"
        ],
        [
         "49",
         "Male",
         "0",
         "No",
         "No",
         "1"
        ]
       ],
       "shape": {
        "columns": 5,
        "rows": 7267
       }
      },
      "text/html": [
       "<div>\n",
       "<style scoped>\n",
       "    .dataframe tbody tr th:only-of-type {\n",
       "        vertical-align: middle;\n",
       "    }\n",
       "\n",
       "    .dataframe tbody tr th {\n",
       "        vertical-align: top;\n",
       "    }\n",
       "\n",
       "    .dataframe thead th {\n",
       "        text-align: right;\n",
       "    }\n",
       "</style>\n",
       "<table border=\"1\" class=\"dataframe\">\n",
       "  <thead>\n",
       "    <tr style=\"text-align: right;\">\n",
       "      <th></th>\n",
       "      <th>gender</th>\n",
       "      <th>SeniorCitizen</th>\n",
       "      <th>Partner</th>\n",
       "      <th>Dependents</th>\n",
       "      <th>tenure</th>\n",
       "    </tr>\n",
       "  </thead>\n",
       "  <tbody>\n",
       "    <tr>\n",
       "      <th>0</th>\n",
       "      <td>Female</td>\n",
       "      <td>0</td>\n",
       "      <td>Yes</td>\n",
       "      <td>Yes</td>\n",
       "      <td>9</td>\n",
       "    </tr>\n",
       "    <tr>\n",
       "      <th>1</th>\n",
       "      <td>Male</td>\n",
       "      <td>0</td>\n",
       "      <td>No</td>\n",
       "      <td>No</td>\n",
       "      <td>9</td>\n",
       "    </tr>\n",
       "    <tr>\n",
       "      <th>2</th>\n",
       "      <td>Male</td>\n",
       "      <td>0</td>\n",
       "      <td>No</td>\n",
       "      <td>No</td>\n",
       "      <td>4</td>\n",
       "    </tr>\n",
       "    <tr>\n",
       "      <th>3</th>\n",
       "      <td>Male</td>\n",
       "      <td>1</td>\n",
       "      <td>Yes</td>\n",
       "      <td>No</td>\n",
       "      <td>13</td>\n",
       "    </tr>\n",
       "    <tr>\n",
       "      <th>4</th>\n",
       "      <td>Female</td>\n",
       "      <td>1</td>\n",
       "      <td>Yes</td>\n",
       "      <td>No</td>\n",
       "      <td>3</td>\n",
       "    </tr>\n",
       "    <tr>\n",
       "      <th>...</th>\n",
       "      <td>...</td>\n",
       "      <td>...</td>\n",
       "      <td>...</td>\n",
       "      <td>...</td>\n",
       "      <td>...</td>\n",
       "    </tr>\n",
       "    <tr>\n",
       "      <th>7262</th>\n",
       "      <td>Female</td>\n",
       "      <td>0</td>\n",
       "      <td>No</td>\n",
       "      <td>No</td>\n",
       "      <td>13</td>\n",
       "    </tr>\n",
       "    <tr>\n",
       "      <th>7263</th>\n",
       "      <td>Male</td>\n",
       "      <td>0</td>\n",
       "      <td>Yes</td>\n",
       "      <td>No</td>\n",
       "      <td>22</td>\n",
       "    </tr>\n",
       "    <tr>\n",
       "      <th>7264</th>\n",
       "      <td>Male</td>\n",
       "      <td>0</td>\n",
       "      <td>No</td>\n",
       "      <td>No</td>\n",
       "      <td>2</td>\n",
       "    </tr>\n",
       "    <tr>\n",
       "      <th>7265</th>\n",
       "      <td>Male</td>\n",
       "      <td>0</td>\n",
       "      <td>Yes</td>\n",
       "      <td>Yes</td>\n",
       "      <td>67</td>\n",
       "    </tr>\n",
       "    <tr>\n",
       "      <th>7266</th>\n",
       "      <td>Male</td>\n",
       "      <td>0</td>\n",
       "      <td>Yes</td>\n",
       "      <td>Yes</td>\n",
       "      <td>63</td>\n",
       "    </tr>\n",
       "  </tbody>\n",
       "</table>\n",
       "<p>7267 rows × 5 columns</p>\n",
       "</div>"
      ],
      "text/plain": [
       "      gender  SeniorCitizen Partner Dependents  tenure\n",
       "0     Female              0     Yes        Yes       9\n",
       "1       Male              0      No         No       9\n",
       "2       Male              0      No         No       4\n",
       "3       Male              1     Yes         No      13\n",
       "4     Female              1     Yes         No       3\n",
       "...      ...            ...     ...        ...     ...\n",
       "7262  Female              0      No         No      13\n",
       "7263    Male              0     Yes         No      22\n",
       "7264    Male              0      No         No       2\n",
       "7265    Male              0     Yes        Yes      67\n",
       "7266    Male              0     Yes        Yes      63\n",
       "\n",
       "[7267 rows x 5 columns]"
      ]
     },
     "execution_count": 6,
     "metadata": {},
     "output_type": "execute_result"
    }
   ],
   "source": [
    "df_normalizado"
   ]
  },
  {
   "cell_type": "code",
   "execution_count": 7,
   "id": "38d38d07",
   "metadata": {},
   "outputs": [],
   "source": [
    "df_normalizado_2 = pd.json_normalize(df['phone'])\n",
    "#df_normalizado_2.to_json('phone_normalizado.json')"
   ]
  },
  {
   "cell_type": "code",
   "execution_count": 8,
   "id": "91887133",
   "metadata": {},
   "outputs": [
    {
     "data": {
      "application/vnd.microsoft.datawrangler.viewer.v0+json": {
       "columns": [
        {
         "name": "index",
         "rawType": "int64",
         "type": "integer"
        },
        {
         "name": "PhoneService",
         "rawType": "object",
         "type": "string"
        },
        {
         "name": "MultipleLines",
         "rawType": "object",
         "type": "string"
        }
       ],
       "ref": "303cfc7f-4c3f-4c16-9543-286338ad761b",
       "rows": [
        [
         "0",
         "Yes",
         "No"
        ],
        [
         "1",
         "Yes",
         "Yes"
        ],
        [
         "2",
         "Yes",
         "No"
        ],
        [
         "3",
         "Yes",
         "No"
        ],
        [
         "4",
         "Yes",
         "No"
        ],
        [
         "5",
         "Yes",
         "No"
        ],
        [
         "6",
         "Yes",
         "No"
        ],
        [
         "7",
         "Yes",
         "Yes"
        ],
        [
         "8",
         "Yes",
         "No"
        ],
        [
         "9",
         "Yes",
         "Yes"
        ],
        [
         "10",
         "No",
         "No phone service"
        ],
        [
         "11",
         "Yes",
         "Yes"
        ],
        [
         "12",
         "Yes",
         "No"
        ],
        [
         "13",
         "Yes",
         "Yes"
        ],
        [
         "14",
         "No",
         "No phone service"
        ],
        [
         "15",
         "Yes",
         "Yes"
        ],
        [
         "16",
         "No",
         "No phone service"
        ],
        [
         "17",
         "Yes",
         "Yes"
        ],
        [
         "18",
         "Yes",
         "No"
        ],
        [
         "19",
         "No",
         "No phone service"
        ],
        [
         "20",
         "Yes",
         "Yes"
        ],
        [
         "21",
         "Yes",
         "Yes"
        ],
        [
         "22",
         "Yes",
         "Yes"
        ],
        [
         "23",
         "Yes",
         "No"
        ],
        [
         "24",
         "Yes",
         "No"
        ],
        [
         "25",
         "No",
         "No phone service"
        ],
        [
         "26",
         "Yes",
         "No"
        ],
        [
         "27",
         "Yes",
         "No"
        ],
        [
         "28",
         "Yes",
         "No"
        ],
        [
         "29",
         "Yes",
         "No"
        ],
        [
         "30",
         "Yes",
         "Yes"
        ],
        [
         "31",
         "Yes",
         "No"
        ],
        [
         "32",
         "Yes",
         "No"
        ],
        [
         "33",
         "Yes",
         "Yes"
        ],
        [
         "34",
         "Yes",
         "No"
        ],
        [
         "35",
         "No",
         "No phone service"
        ],
        [
         "36",
         "Yes",
         "Yes"
        ],
        [
         "37",
         "Yes",
         "Yes"
        ],
        [
         "38",
         "Yes",
         "Yes"
        ],
        [
         "39",
         "Yes",
         "No"
        ],
        [
         "40",
         "Yes",
         "Yes"
        ],
        [
         "41",
         "Yes",
         "No"
        ],
        [
         "42",
         "Yes",
         "No"
        ],
        [
         "43",
         "Yes",
         "Yes"
        ],
        [
         "44",
         "Yes",
         "No"
        ],
        [
         "45",
         "No",
         "No phone service"
        ],
        [
         "46",
         "Yes",
         "Yes"
        ],
        [
         "47",
         "Yes",
         "No"
        ],
        [
         "48",
         "Yes",
         "No"
        ],
        [
         "49",
         "Yes",
         "No"
        ]
       ],
       "shape": {
        "columns": 2,
        "rows": 7267
       }
      },
      "text/html": [
       "<div>\n",
       "<style scoped>\n",
       "    .dataframe tbody tr th:only-of-type {\n",
       "        vertical-align: middle;\n",
       "    }\n",
       "\n",
       "    .dataframe tbody tr th {\n",
       "        vertical-align: top;\n",
       "    }\n",
       "\n",
       "    .dataframe thead th {\n",
       "        text-align: right;\n",
       "    }\n",
       "</style>\n",
       "<table border=\"1\" class=\"dataframe\">\n",
       "  <thead>\n",
       "    <tr style=\"text-align: right;\">\n",
       "      <th></th>\n",
       "      <th>PhoneService</th>\n",
       "      <th>MultipleLines</th>\n",
       "    </tr>\n",
       "  </thead>\n",
       "  <tbody>\n",
       "    <tr>\n",
       "      <th>0</th>\n",
       "      <td>Yes</td>\n",
       "      <td>No</td>\n",
       "    </tr>\n",
       "    <tr>\n",
       "      <th>1</th>\n",
       "      <td>Yes</td>\n",
       "      <td>Yes</td>\n",
       "    </tr>\n",
       "    <tr>\n",
       "      <th>2</th>\n",
       "      <td>Yes</td>\n",
       "      <td>No</td>\n",
       "    </tr>\n",
       "    <tr>\n",
       "      <th>3</th>\n",
       "      <td>Yes</td>\n",
       "      <td>No</td>\n",
       "    </tr>\n",
       "    <tr>\n",
       "      <th>4</th>\n",
       "      <td>Yes</td>\n",
       "      <td>No</td>\n",
       "    </tr>\n",
       "    <tr>\n",
       "      <th>...</th>\n",
       "      <td>...</td>\n",
       "      <td>...</td>\n",
       "    </tr>\n",
       "    <tr>\n",
       "      <th>7262</th>\n",
       "      <td>Yes</td>\n",
       "      <td>No</td>\n",
       "    </tr>\n",
       "    <tr>\n",
       "      <th>7263</th>\n",
       "      <td>Yes</td>\n",
       "      <td>Yes</td>\n",
       "    </tr>\n",
       "    <tr>\n",
       "      <th>7264</th>\n",
       "      <td>Yes</td>\n",
       "      <td>No</td>\n",
       "    </tr>\n",
       "    <tr>\n",
       "      <th>7265</th>\n",
       "      <td>Yes</td>\n",
       "      <td>No</td>\n",
       "    </tr>\n",
       "    <tr>\n",
       "      <th>7266</th>\n",
       "      <td>No</td>\n",
       "      <td>No phone service</td>\n",
       "    </tr>\n",
       "  </tbody>\n",
       "</table>\n",
       "<p>7267 rows × 2 columns</p>\n",
       "</div>"
      ],
      "text/plain": [
       "     PhoneService     MultipleLines\n",
       "0             Yes                No\n",
       "1             Yes               Yes\n",
       "2             Yes                No\n",
       "3             Yes                No\n",
       "4             Yes                No\n",
       "...           ...               ...\n",
       "7262          Yes                No\n",
       "7263          Yes               Yes\n",
       "7264          Yes                No\n",
       "7265          Yes                No\n",
       "7266           No  No phone service\n",
       "\n",
       "[7267 rows x 2 columns]"
      ]
     },
     "execution_count": 8,
     "metadata": {},
     "output_type": "execute_result"
    }
   ],
   "source": [
    "df_normalizado_2"
   ]
  },
  {
   "cell_type": "code",
   "execution_count": 9,
   "id": "b2c9163a",
   "metadata": {},
   "outputs": [],
   "source": [
    "df_normalizado_3 = pd.json_normalize(df['internet'])\n",
    "#df_normaizado_3.to_json('internet_normalizado.json')"
   ]
  },
  {
   "cell_type": "code",
   "execution_count": 10,
   "id": "048927f4",
   "metadata": {},
   "outputs": [
    {
     "data": {
      "application/vnd.microsoft.datawrangler.viewer.v0+json": {
       "columns": [
        {
         "name": "index",
         "rawType": "int64",
         "type": "integer"
        },
        {
         "name": "InternetService",
         "rawType": "object",
         "type": "string"
        },
        {
         "name": "OnlineSecurity",
         "rawType": "object",
         "type": "string"
        },
        {
         "name": "OnlineBackup",
         "rawType": "object",
         "type": "string"
        },
        {
         "name": "DeviceProtection",
         "rawType": "object",
         "type": "string"
        },
        {
         "name": "TechSupport",
         "rawType": "object",
         "type": "string"
        },
        {
         "name": "StreamingTV",
         "rawType": "object",
         "type": "string"
        },
        {
         "name": "StreamingMovies",
         "rawType": "object",
         "type": "string"
        }
       ],
       "ref": "6ca19df7-a525-4f59-9e6c-9dc9e56db6e7",
       "rows": [
        [
         "0",
         "DSL",
         "No",
         "Yes",
         "No",
         "Yes",
         "Yes",
         "No"
        ],
        [
         "1",
         "DSL",
         "No",
         "No",
         "No",
         "No",
         "No",
         "Yes"
        ],
        [
         "2",
         "Fiber optic",
         "No",
         "No",
         "Yes",
         "No",
         "No",
         "No"
        ],
        [
         "3",
         "Fiber optic",
         "No",
         "Yes",
         "Yes",
         "No",
         "Yes",
         "Yes"
        ],
        [
         "4",
         "Fiber optic",
         "No",
         "No",
         "No",
         "Yes",
         "Yes",
         "No"
        ],
        [
         "5",
         "DSL",
         "No",
         "No",
         "No",
         "Yes",
         "Yes",
         "Yes"
        ],
        [
         "6",
         "Fiber optic",
         "Yes",
         "Yes",
         "Yes",
         "Yes",
         "Yes",
         "Yes"
        ],
        [
         "7",
         "Fiber optic",
         "Yes",
         "No",
         "No",
         "Yes",
         "No",
         "No"
        ],
        [
         "8",
         "DSL",
         "Yes",
         "No",
         "No",
         "No",
         "No",
         "No"
        ],
        [
         "9",
         "DSL",
         "Yes",
         "Yes",
         "Yes",
         "Yes",
         "Yes",
         "Yes"
        ],
        [
         "10",
         "DSL",
         "Yes",
         "No",
         "No",
         "Yes",
         "Yes",
         "No"
        ],
        [
         "11",
         "Fiber optic",
         "Yes",
         "Yes",
         "Yes",
         "Yes",
         "Yes",
         "Yes"
        ],
        [
         "12",
         "Fiber optic",
         "No",
         "No",
         "No",
         "No",
         "No",
         "No"
        ],
        [
         "13",
         "Fiber optic",
         "Yes",
         "Yes",
         "Yes",
         "No",
         "Yes",
         "No"
        ],
        [
         "14",
         "DSL",
         "Yes",
         "Yes",
         "Yes",
         "Yes",
         "No",
         "No"
        ],
        [
         "15",
         "Fiber optic",
         "No",
         "Yes",
         "Yes",
         "No",
         "No",
         "Yes"
        ],
        [
         "16",
         "DSL",
         "Yes",
         "No",
         "Yes",
         "Yes",
         "Yes",
         "Yes"
        ],
        [
         "17",
         "Fiber optic",
         "No",
         "No",
         "No",
         "No",
         "No",
         "No"
        ],
        [
         "18",
         "DSL",
         "Yes",
         "No",
         "Yes",
         "No",
         "No",
         "Yes"
        ],
        [
         "19",
         "DSL",
         "No",
         "No",
         "No",
         "No",
         "No",
         "No"
        ],
        [
         "20",
         "No",
         "No internet service",
         "No internet service",
         "No internet service",
         "No internet service",
         "No internet service",
         "No internet service"
        ],
        [
         "21",
         "Fiber optic",
         "No",
         "Yes",
         "Yes",
         "No",
         "Yes",
         "No"
        ],
        [
         "22",
         "Fiber optic",
         "No",
         "No",
         "No",
         "No",
         "Yes",
         "No"
        ],
        [
         "23",
         "No",
         "No internet service",
         "No internet service",
         "No internet service",
         "No internet service",
         "No internet service",
         "No internet service"
        ],
        [
         "24",
         "No",
         "No internet service",
         "No internet service",
         "No internet service",
         "No internet service",
         "No internet service",
         "No internet service"
        ],
        [
         "25",
         "DSL",
         "Yes",
         "No",
         "No",
         "No",
         "No",
         "No"
        ],
        [
         "26",
         "Fiber optic",
         "No",
         "Yes",
         "Yes",
         "Yes",
         "Yes",
         "Yes"
        ],
        [
         "27",
         "No",
         "No internet service",
         "No internet service",
         "No internet service",
         "No internet service",
         "No internet service",
         "No internet service"
        ],
        [
         "28",
         "No",
         "No internet service",
         "No internet service",
         "No internet service",
         "No internet service",
         "No internet service",
         "No internet service"
        ],
        [
         "29",
         "No",
         "No internet service",
         "No internet service",
         "No internet service",
         "No internet service",
         "No internet service",
         "No internet service"
        ],
        [
         "30",
         "Fiber optic",
         "Yes",
         "No",
         "No",
         "No",
         "No",
         "No"
        ],
        [
         "31",
         "Fiber optic",
         "No",
         "No",
         "No",
         "No",
         "Yes",
         "Yes"
        ],
        [
         "32",
         "No",
         "No internet service",
         "No internet service",
         "No internet service",
         "No internet service",
         "No internet service",
         "No internet service"
        ],
        [
         "33",
         "Fiber optic",
         "Yes",
         "Yes",
         "Yes",
         "Yes",
         "Yes",
         "Yes"
        ],
        [
         "34",
         "No",
         "No internet service",
         "No internet service",
         "No internet service",
         "No internet service",
         "No internet service",
         "No internet service"
        ],
        [
         "35",
         "DSL",
         "Yes",
         "No",
         "Yes",
         "Yes",
         "No",
         "No"
        ],
        [
         "36",
         "No",
         "No internet service",
         "No internet service",
         "No internet service",
         "No internet service",
         "No internet service",
         "No internet service"
        ],
        [
         "37",
         "Fiber optic",
         "Yes",
         "No",
         "No",
         "No",
         "Yes",
         "No"
        ],
        [
         "38",
         "Fiber optic",
         "Yes",
         "Yes",
         "No",
         "No",
         "Yes",
         "No"
        ],
        [
         "39",
         "No",
         "No internet service",
         "No internet service",
         "No internet service",
         "No internet service",
         "No internet service",
         "No internet service"
        ],
        [
         "40",
         "Fiber optic",
         "No",
         "No",
         "No",
         "No",
         "No",
         "No"
        ],
        [
         "41",
         "DSL",
         "Yes",
         "No",
         "No",
         "No",
         "No",
         "No"
        ],
        [
         "42",
         "DSL",
         "No",
         "Yes",
         "Yes",
         "Yes",
         "Yes",
         "Yes"
        ],
        [
         "43",
         "No",
         "No internet service",
         "No internet service",
         "No internet service",
         "No internet service",
         "No internet service",
         "No internet service"
        ],
        [
         "44",
         "DSL",
         "Yes",
         "Yes",
         "Yes",
         "No",
         "No",
         "No"
        ],
        [
         "45",
         "DSL",
         "Yes",
         "Yes",
         "Yes",
         "Yes",
         "No",
         "No"
        ],
        [
         "46",
         "DSL",
         "No",
         "Yes",
         "Yes",
         "Yes",
         "Yes",
         "Yes"
        ],
        [
         "47",
         "DSL",
         "No",
         "Yes",
         "No",
         "No",
         "No",
         "No"
        ],
        [
         "48",
         "Fiber optic",
         "No",
         "No",
         "Yes",
         "Yes",
         "Yes",
         "Yes"
        ],
        [
         "49",
         "DSL",
         "No",
         "No",
         "No",
         "No",
         "No",
         "No"
        ]
       ],
       "shape": {
        "columns": 7,
        "rows": 7267
       }
      },
      "text/html": [
       "<div>\n",
       "<style scoped>\n",
       "    .dataframe tbody tr th:only-of-type {\n",
       "        vertical-align: middle;\n",
       "    }\n",
       "\n",
       "    .dataframe tbody tr th {\n",
       "        vertical-align: top;\n",
       "    }\n",
       "\n",
       "    .dataframe thead th {\n",
       "        text-align: right;\n",
       "    }\n",
       "</style>\n",
       "<table border=\"1\" class=\"dataframe\">\n",
       "  <thead>\n",
       "    <tr style=\"text-align: right;\">\n",
       "      <th></th>\n",
       "      <th>InternetService</th>\n",
       "      <th>OnlineSecurity</th>\n",
       "      <th>OnlineBackup</th>\n",
       "      <th>DeviceProtection</th>\n",
       "      <th>TechSupport</th>\n",
       "      <th>StreamingTV</th>\n",
       "      <th>StreamingMovies</th>\n",
       "    </tr>\n",
       "  </thead>\n",
       "  <tbody>\n",
       "    <tr>\n",
       "      <th>0</th>\n",
       "      <td>DSL</td>\n",
       "      <td>No</td>\n",
       "      <td>Yes</td>\n",
       "      <td>No</td>\n",
       "      <td>Yes</td>\n",
       "      <td>Yes</td>\n",
       "      <td>No</td>\n",
       "    </tr>\n",
       "    <tr>\n",
       "      <th>1</th>\n",
       "      <td>DSL</td>\n",
       "      <td>No</td>\n",
       "      <td>No</td>\n",
       "      <td>No</td>\n",
       "      <td>No</td>\n",
       "      <td>No</td>\n",
       "      <td>Yes</td>\n",
       "    </tr>\n",
       "    <tr>\n",
       "      <th>2</th>\n",
       "      <td>Fiber optic</td>\n",
       "      <td>No</td>\n",
       "      <td>No</td>\n",
       "      <td>Yes</td>\n",
       "      <td>No</td>\n",
       "      <td>No</td>\n",
       "      <td>No</td>\n",
       "    </tr>\n",
       "    <tr>\n",
       "      <th>3</th>\n",
       "      <td>Fiber optic</td>\n",
       "      <td>No</td>\n",
       "      <td>Yes</td>\n",
       "      <td>Yes</td>\n",
       "      <td>No</td>\n",
       "      <td>Yes</td>\n",
       "      <td>Yes</td>\n",
       "    </tr>\n",
       "    <tr>\n",
       "      <th>4</th>\n",
       "      <td>Fiber optic</td>\n",
       "      <td>No</td>\n",
       "      <td>No</td>\n",
       "      <td>No</td>\n",
       "      <td>Yes</td>\n",
       "      <td>Yes</td>\n",
       "      <td>No</td>\n",
       "    </tr>\n",
       "    <tr>\n",
       "      <th>...</th>\n",
       "      <td>...</td>\n",
       "      <td>...</td>\n",
       "      <td>...</td>\n",
       "      <td>...</td>\n",
       "      <td>...</td>\n",
       "      <td>...</td>\n",
       "      <td>...</td>\n",
       "    </tr>\n",
       "    <tr>\n",
       "      <th>7262</th>\n",
       "      <td>DSL</td>\n",
       "      <td>Yes</td>\n",
       "      <td>No</td>\n",
       "      <td>No</td>\n",
       "      <td>Yes</td>\n",
       "      <td>No</td>\n",
       "      <td>No</td>\n",
       "    </tr>\n",
       "    <tr>\n",
       "      <th>7263</th>\n",
       "      <td>Fiber optic</td>\n",
       "      <td>No</td>\n",
       "      <td>No</td>\n",
       "      <td>No</td>\n",
       "      <td>No</td>\n",
       "      <td>No</td>\n",
       "      <td>Yes</td>\n",
       "    </tr>\n",
       "    <tr>\n",
       "      <th>7264</th>\n",
       "      <td>DSL</td>\n",
       "      <td>No</td>\n",
       "      <td>Yes</td>\n",
       "      <td>No</td>\n",
       "      <td>No</td>\n",
       "      <td>No</td>\n",
       "      <td>No</td>\n",
       "    </tr>\n",
       "    <tr>\n",
       "      <th>7265</th>\n",
       "      <td>DSL</td>\n",
       "      <td>Yes</td>\n",
       "      <td>No</td>\n",
       "      <td>Yes</td>\n",
       "      <td>Yes</td>\n",
       "      <td>No</td>\n",
       "      <td>Yes</td>\n",
       "    </tr>\n",
       "    <tr>\n",
       "      <th>7266</th>\n",
       "      <td>DSL</td>\n",
       "      <td>Yes</td>\n",
       "      <td>Yes</td>\n",
       "      <td>Yes</td>\n",
       "      <td>No</td>\n",
       "      <td>Yes</td>\n",
       "      <td>Yes</td>\n",
       "    </tr>\n",
       "  </tbody>\n",
       "</table>\n",
       "<p>7267 rows × 7 columns</p>\n",
       "</div>"
      ],
      "text/plain": [
       "     InternetService OnlineSecurity OnlineBackup DeviceProtection TechSupport  \\\n",
       "0                DSL             No          Yes               No         Yes   \n",
       "1                DSL             No           No               No          No   \n",
       "2        Fiber optic             No           No              Yes          No   \n",
       "3        Fiber optic             No          Yes              Yes          No   \n",
       "4        Fiber optic             No           No               No         Yes   \n",
       "...              ...            ...          ...              ...         ...   \n",
       "7262             DSL            Yes           No               No         Yes   \n",
       "7263     Fiber optic             No           No               No          No   \n",
       "7264             DSL             No          Yes               No          No   \n",
       "7265             DSL            Yes           No              Yes         Yes   \n",
       "7266             DSL            Yes          Yes              Yes          No   \n",
       "\n",
       "     StreamingTV StreamingMovies  \n",
       "0            Yes              No  \n",
       "1             No             Yes  \n",
       "2             No              No  \n",
       "3            Yes             Yes  \n",
       "4            Yes              No  \n",
       "...          ...             ...  \n",
       "7262          No              No  \n",
       "7263          No             Yes  \n",
       "7264          No              No  \n",
       "7265          No             Yes  \n",
       "7266         Yes             Yes  \n",
       "\n",
       "[7267 rows x 7 columns]"
      ]
     },
     "execution_count": 10,
     "metadata": {},
     "output_type": "execute_result"
    }
   ],
   "source": [
    "df_normalizado_3"
   ]
  },
  {
   "cell_type": "code",
   "execution_count": 11,
   "id": "1f9b47ac",
   "metadata": {},
   "outputs": [],
   "source": [
    "df_normalizado_4 = pd.json_normalize(df['account'])\n",
    "#df_normalizado_4.to_json('account_normalizado.json')"
   ]
  },
  {
   "cell_type": "code",
   "execution_count": 12,
   "id": "0cdb4a5e",
   "metadata": {},
   "outputs": [
    {
     "data": {
      "application/vnd.microsoft.datawrangler.viewer.v0+json": {
       "columns": [
        {
         "name": "index",
         "rawType": "int64",
         "type": "integer"
        },
        {
         "name": "Contract",
         "rawType": "object",
         "type": "string"
        },
        {
         "name": "PaperlessBilling",
         "rawType": "object",
         "type": "string"
        },
        {
         "name": "PaymentMethod",
         "rawType": "object",
         "type": "string"
        },
        {
         "name": "Charges.Monthly",
         "rawType": "float64",
         "type": "float"
        },
        {
         "name": "Charges.Total",
         "rawType": "object",
         "type": "string"
        }
       ],
       "ref": "e0b0d684-4854-4d11-9799-ec30bca96b35",
       "rows": [
        [
         "0",
         "One year",
         "Yes",
         "Mailed check",
         "65.6",
         "593.3"
        ],
        [
         "1",
         "Month-to-month",
         "No",
         "Mailed check",
         "59.9",
         "542.4"
        ],
        [
         "2",
         "Month-to-month",
         "Yes",
         "Electronic check",
         "73.9",
         "280.85"
        ],
        [
         "3",
         "Month-to-month",
         "Yes",
         "Electronic check",
         "98.0",
         "1237.85"
        ],
        [
         "4",
         "Month-to-month",
         "Yes",
         "Mailed check",
         "83.9",
         "267.4"
        ],
        [
         "5",
         "Month-to-month",
         "Yes",
         "Credit card (automatic)",
         "69.4",
         "571.45"
        ],
        [
         "6",
         "Two year",
         "Yes",
         "Bank transfer (automatic)",
         "109.7",
         "7904.25"
        ],
        [
         "7",
         "Two year",
         "Yes",
         "Credit card (automatic)",
         "84.65",
         "5377.8"
        ],
        [
         "8",
         "Month-to-month",
         "Yes",
         "Electronic check",
         "48.2",
         "340.35"
        ],
        [
         "9",
         "Two year",
         "Yes",
         "Mailed check",
         "90.45",
         "5957.9"
        ],
        [
         "10",
         "Two year",
         "No",
         "Credit card (automatic)",
         "45.2",
         "2460.55"
        ],
        [
         "11",
         "Two year",
         "Yes",
         "Credit card (automatic)",
         "116.8",
         "8456.75"
        ],
        [
         "12",
         "Month-to-month",
         "Yes",
         "Electronic check",
         "68.95",
         "351.5"
        ],
        [
         "13",
         "Two year",
         "Yes",
         "Bank transfer (automatic)",
         "101.3",
         "7261.25"
        ],
        [
         "14",
         "Two year",
         "No",
         "Bank transfer (automatic)",
         "45.05",
         "2560.1"
        ],
        [
         "15",
         "Two year",
         "Yes",
         "Credit card (automatic)",
         "95.75",
         "6849.4"
        ],
        [
         "16",
         "One year",
         "No",
         "Mailed check",
         "61.25",
         "1993.2"
        ],
        [
         "17",
         "Month-to-month",
         "Yes",
         "Electronic check",
         "72.1",
         "72.1"
        ],
        [
         "18",
         "One year",
         "No",
         "Credit card (automatic)",
         "62.7",
         "2791.5"
        ],
        [
         "19",
         "Month-to-month",
         "Yes",
         "Electronic check",
         "25.1",
         "25.1"
        ],
        [
         "20",
         "One year",
         "No",
         "Electronic check",
         "25.2",
         "1306.3"
        ],
        [
         "21",
         "Month-to-month",
         "No",
         "Electronic check",
         "94.1",
         "1215.6"
        ],
        [
         "22",
         "Month-to-month",
         "Yes",
         "Electronic check",
         "83.75",
         "1849.95"
        ],
        [
         "23",
         "Month-to-month",
         "No",
         "Mailed check",
         "19.85",
         "57.2"
        ],
        [
         "24",
         "Month-to-month",
         "No",
         "Mailed check",
         "20.35",
         "76.35"
        ],
        [
         "25",
         "Month-to-month",
         "No",
         "Bank transfer (automatic)",
         "30.5",
         "30.5"
        ],
        [
         "26",
         "One year",
         "Yes",
         "Bank transfer (automatic)",
         "103.7",
         "5656.75"
        ],
        [
         "27",
         "Two year",
         "No",
         "Credit card (automatic)",
         "20.4",
         "1090.6"
        ],
        [
         "28",
         "One year",
         "Yes",
         "Bank transfer (automatic)",
         "19.6",
         "471.85"
        ],
        [
         "29",
         "Two year",
         "No",
         "Bank transfer (automatic)",
         "19.7",
         "1396.9"
        ],
        [
         "30",
         "Month-to-month",
         "Yes",
         "Bank transfer (automatic)",
         "79.0",
         "929.3"
        ],
        [
         "31",
         "One year",
         "No",
         "Credit card (automatic)",
         "91.2",
         "3247.55"
        ],
        [
         "32",
         "One year",
         "No",
         "Bank transfer (automatic)",
         "20.45",
         "900.9"
        ],
        [
         "33",
         "One year",
         "No",
         "Bank transfer (automatic)",
         "115.8",
         "7942.15"
        ],
        [
         "34",
         "One year",
         "No",
         "Electronic check",
         "20.55",
         "1343.4"
        ],
        [
         "35",
         "Two year",
         "Yes",
         "Credit card (automatic)",
         "39.4",
         "825.4"
        ],
        [
         "36",
         "Two year",
         "Yes",
         "Electronic check",
         "25.1",
         "1070.15"
        ],
        [
         "37",
         "Month-to-month",
         "Yes",
         "Bank transfer (automatic)",
         "89.8",
         "4959.6"
        ],
        [
         "38",
         "Month-to-month",
         "Yes",
         "Electronic check",
         "94.75",
         "5597.65"
        ],
        [
         "39",
         "Two year",
         "No",
         "Bank transfer (automatic)",
         "20.3",
         "224.5"
        ],
        [
         "40",
         "Month-to-month",
         "Yes",
         "Bank transfer (automatic)",
         "75.75",
         "1929"
        ],
        [
         "41",
         "Month-to-month",
         "Yes",
         "Electronic check",
         "49.25",
         "91.1"
        ],
        [
         "42",
         "One year",
         "No",
         "Mailed check",
         "78.2",
         "2078.95"
        ],
        [
         "43",
         "Two year",
         "No",
         "Credit card (automatic)",
         "25.5",
         "630.6"
        ],
        [
         "44",
         "One year",
         "Yes",
         "Bank transfer (automatic)",
         "61.6",
         "1611"
        ],
        [
         "45",
         "Month-to-month",
         "Yes",
         "Mailed check",
         "45.0",
         "1242.45"
        ],
        [
         "46",
         "Two year",
         "Yes",
         "Bank transfer (automatic)",
         "85.15",
         "6316.2"
        ],
        [
         "47",
         "One year",
         "No",
         "Credit card (automatic)",
         "51.45",
         "727.85"
        ],
        [
         "48",
         "One year",
         "Yes",
         "Electronic check",
         "99.25",
         "3532"
        ],
        [
         "49",
         "Month-to-month",
         "Yes",
         "Mailed check",
         "44.3",
         "44.3"
        ]
       ],
       "shape": {
        "columns": 5,
        "rows": 7267
       }
      },
      "text/html": [
       "<div>\n",
       "<style scoped>\n",
       "    .dataframe tbody tr th:only-of-type {\n",
       "        vertical-align: middle;\n",
       "    }\n",
       "\n",
       "    .dataframe tbody tr th {\n",
       "        vertical-align: top;\n",
       "    }\n",
       "\n",
       "    .dataframe thead th {\n",
       "        text-align: right;\n",
       "    }\n",
       "</style>\n",
       "<table border=\"1\" class=\"dataframe\">\n",
       "  <thead>\n",
       "    <tr style=\"text-align: right;\">\n",
       "      <th></th>\n",
       "      <th>Contract</th>\n",
       "      <th>PaperlessBilling</th>\n",
       "      <th>PaymentMethod</th>\n",
       "      <th>Charges.Monthly</th>\n",
       "      <th>Charges.Total</th>\n",
       "    </tr>\n",
       "  </thead>\n",
       "  <tbody>\n",
       "    <tr>\n",
       "      <th>0</th>\n",
       "      <td>One year</td>\n",
       "      <td>Yes</td>\n",
       "      <td>Mailed check</td>\n",
       "      <td>65.60</td>\n",
       "      <td>593.3</td>\n",
       "    </tr>\n",
       "    <tr>\n",
       "      <th>1</th>\n",
       "      <td>Month-to-month</td>\n",
       "      <td>No</td>\n",
       "      <td>Mailed check</td>\n",
       "      <td>59.90</td>\n",
       "      <td>542.4</td>\n",
       "    </tr>\n",
       "    <tr>\n",
       "      <th>2</th>\n",
       "      <td>Month-to-month</td>\n",
       "      <td>Yes</td>\n",
       "      <td>Electronic check</td>\n",
       "      <td>73.90</td>\n",
       "      <td>280.85</td>\n",
       "    </tr>\n",
       "    <tr>\n",
       "      <th>3</th>\n",
       "      <td>Month-to-month</td>\n",
       "      <td>Yes</td>\n",
       "      <td>Electronic check</td>\n",
       "      <td>98.00</td>\n",
       "      <td>1237.85</td>\n",
       "    </tr>\n",
       "    <tr>\n",
       "      <th>4</th>\n",
       "      <td>Month-to-month</td>\n",
       "      <td>Yes</td>\n",
       "      <td>Mailed check</td>\n",
       "      <td>83.90</td>\n",
       "      <td>267.4</td>\n",
       "    </tr>\n",
       "    <tr>\n",
       "      <th>...</th>\n",
       "      <td>...</td>\n",
       "      <td>...</td>\n",
       "      <td>...</td>\n",
       "      <td>...</td>\n",
       "      <td>...</td>\n",
       "    </tr>\n",
       "    <tr>\n",
       "      <th>7262</th>\n",
       "      <td>One year</td>\n",
       "      <td>No</td>\n",
       "      <td>Mailed check</td>\n",
       "      <td>55.15</td>\n",
       "      <td>742.9</td>\n",
       "    </tr>\n",
       "    <tr>\n",
       "      <th>7263</th>\n",
       "      <td>Month-to-month</td>\n",
       "      <td>Yes</td>\n",
       "      <td>Electronic check</td>\n",
       "      <td>85.10</td>\n",
       "      <td>1873.7</td>\n",
       "    </tr>\n",
       "    <tr>\n",
       "      <th>7264</th>\n",
       "      <td>Month-to-month</td>\n",
       "      <td>Yes</td>\n",
       "      <td>Mailed check</td>\n",
       "      <td>50.30</td>\n",
       "      <td>92.75</td>\n",
       "    </tr>\n",
       "    <tr>\n",
       "      <th>7265</th>\n",
       "      <td>Two year</td>\n",
       "      <td>No</td>\n",
       "      <td>Mailed check</td>\n",
       "      <td>67.85</td>\n",
       "      <td>4627.65</td>\n",
       "    </tr>\n",
       "    <tr>\n",
       "      <th>7266</th>\n",
       "      <td>Two year</td>\n",
       "      <td>No</td>\n",
       "      <td>Electronic check</td>\n",
       "      <td>59.00</td>\n",
       "      <td>3707.6</td>\n",
       "    </tr>\n",
       "  </tbody>\n",
       "</table>\n",
       "<p>7267 rows × 5 columns</p>\n",
       "</div>"
      ],
      "text/plain": [
       "            Contract PaperlessBilling     PaymentMethod  Charges.Monthly  \\\n",
       "0           One year              Yes      Mailed check            65.60   \n",
       "1     Month-to-month               No      Mailed check            59.90   \n",
       "2     Month-to-month              Yes  Electronic check            73.90   \n",
       "3     Month-to-month              Yes  Electronic check            98.00   \n",
       "4     Month-to-month              Yes      Mailed check            83.90   \n",
       "...              ...              ...               ...              ...   \n",
       "7262        One year               No      Mailed check            55.15   \n",
       "7263  Month-to-month              Yes  Electronic check            85.10   \n",
       "7264  Month-to-month              Yes      Mailed check            50.30   \n",
       "7265        Two year               No      Mailed check            67.85   \n",
       "7266        Two year               No  Electronic check            59.00   \n",
       "\n",
       "     Charges.Total  \n",
       "0            593.3  \n",
       "1            542.4  \n",
       "2           280.85  \n",
       "3          1237.85  \n",
       "4            267.4  \n",
       "...            ...  \n",
       "7262         742.9  \n",
       "7263        1873.7  \n",
       "7264         92.75  \n",
       "7265       4627.65  \n",
       "7266        3707.6  \n",
       "\n",
       "[7267 rows x 5 columns]"
      ]
     },
     "execution_count": 12,
     "metadata": {},
     "output_type": "execute_result"
    }
   ],
   "source": [
    "df_normalizado_4"
   ]
  },
  {
   "cell_type": "code",
   "execution_count": null,
   "id": "9932b212",
   "metadata": {},
   "outputs": [],
   "source": [
    "df = df.drop(columns=['customer', 'phone', 'internet', 'account'])\n",
    "#df.to_json('telecomX_normalizado.json')"
   ]
  },
  {
   "cell_type": "markdown",
   "id": "88994214",
   "metadata": {},
   "source": [
    "----------------------"
   ]
  },
  {
   "cell_type": "code",
   "execution_count": 2,
   "id": "25dbbef5",
   "metadata": {},
   "outputs": [],
   "source": [
    "import pandas as pd"
   ]
  },
  {
   "cell_type": "code",
   "execution_count": 3,
   "id": "0af13245",
   "metadata": {},
   "outputs": [
    {
     "data": {
      "application/vnd.microsoft.datawrangler.viewer.v0+json": {
       "columns": [
        {
         "name": "index",
         "rawType": "int64",
         "type": "integer"
        },
        {
         "name": "customerID",
         "rawType": "object",
         "type": "string"
        },
        {
         "name": "Churn",
         "rawType": "object",
         "type": "string"
        }
       ],
       "ref": "146f505e-f60f-484a-b75a-81d3425a2fd3",
       "rows": [
        [
         "0",
         "0002-ORFBO",
         "No"
        ],
        [
         "1",
         "0003-MKNFE",
         "No"
        ],
        [
         "2",
         "0004-TLHLJ",
         "Yes"
        ],
        [
         "3",
         "0011-IGKFF",
         "Yes"
        ],
        [
         "4",
         "0013-EXCHZ",
         "Yes"
        ],
        [
         "5",
         "0013-MHZWF",
         "No"
        ],
        [
         "6",
         "0013-SMEOE",
         "No"
        ],
        [
         "7",
         "0014-BMAQU",
         "No"
        ],
        [
         "8",
         "0015-UOCOJ",
         "No"
        ],
        [
         "9",
         "0016-QLJIS",
         "No"
        ],
        [
         "10",
         "0017-DINOC",
         "No"
        ],
        [
         "11",
         "0017-IUDMW",
         "No"
        ],
        [
         "12",
         "0018-NYROU",
         "No"
        ],
        [
         "13",
         "0019-EFAEP",
         "No"
        ],
        [
         "14",
         "0019-GFNTW",
         "No"
        ],
        [
         "15",
         "0020-INWCK",
         "No"
        ],
        [
         "16",
         "0020-JDNXP",
         "No"
        ],
        [
         "17",
         "0021-IKXGC",
         "No"
        ],
        [
         "18",
         "0022-TCJCI",
         "Yes"
        ],
        [
         "19",
         "0023-HGHWL",
         "Yes"
        ],
        [
         "20",
         "0023-UYUPN",
         "No"
        ],
        [
         "21",
         "0023-XUOPT",
         "Yes"
        ],
        [
         "22",
         "0027-KWYKW",
         "No"
        ],
        [
         "23",
         "0030-FNXPP",
         "No"
        ],
        [
         "24",
         "0031-PVLZI",
         "Yes"
        ],
        [
         "25",
         "0032-PGELS",
         "Yes"
        ],
        [
         "26",
         "0036-IHMOT",
         "No"
        ],
        [
         "27",
         "0040-HALCW",
         "No"
        ],
        [
         "28",
         "0042-JVWOJ",
         "No"
        ],
        [
         "29",
         "0042-RLHYP",
         "No"
        ],
        [
         "30",
         "0047-ZHDTW",
         ""
        ],
        [
         "31",
         "0048-LUMLS",
         "No"
        ],
        [
         "32",
         "0048-PIHNL",
         "No"
        ],
        [
         "33",
         "0052-DCKON",
         "No"
        ],
        [
         "34",
         "0052-YNYOT",
         "No"
        ],
        [
         "35",
         "0056-EPFBG",
         "No"
        ],
        [
         "36",
         "0057-QBUQH",
         "No"
        ],
        [
         "37",
         "0058-EVZWM",
         "No"
        ],
        [
         "38",
         "0060-FUALY",
         "No"
        ],
        [
         "39",
         "0064-SUDOG",
         "No"
        ],
        [
         "40",
         "0064-YIJGF",
         "No"
        ],
        [
         "41",
         "0067-DKWBL",
         "Yes"
        ],
        [
         "42",
         "0068-FIGTF",
         "No"
        ],
        [
         "43",
         "0071-NDAFP",
         "No"
        ],
        [
         "44",
         "0074-HDKDG",
         "No"
        ],
        [
         "45",
         "0076-LVEPS",
         "No"
        ],
        [
         "46",
         "0078-XZMHT",
         "No"
        ],
        [
         "47",
         "0080-EMYVY",
         "No"
        ],
        [
         "48",
         "0080-OROZO",
         "No"
        ],
        [
         "49",
         "0082-LDZUE",
         "No"
        ]
       ],
       "shape": {
        "columns": 2,
        "rows": 7267
       }
      },
      "text/html": [
       "<div>\n",
       "<style scoped>\n",
       "    .dataframe tbody tr th:only-of-type {\n",
       "        vertical-align: middle;\n",
       "    }\n",
       "\n",
       "    .dataframe tbody tr th {\n",
       "        vertical-align: top;\n",
       "    }\n",
       "\n",
       "    .dataframe thead th {\n",
       "        text-align: right;\n",
       "    }\n",
       "</style>\n",
       "<table border=\"1\" class=\"dataframe\">\n",
       "  <thead>\n",
       "    <tr style=\"text-align: right;\">\n",
       "      <th></th>\n",
       "      <th>customerID</th>\n",
       "      <th>Churn</th>\n",
       "    </tr>\n",
       "  </thead>\n",
       "  <tbody>\n",
       "    <tr>\n",
       "      <th>0</th>\n",
       "      <td>0002-ORFBO</td>\n",
       "      <td>No</td>\n",
       "    </tr>\n",
       "    <tr>\n",
       "      <th>1</th>\n",
       "      <td>0003-MKNFE</td>\n",
       "      <td>No</td>\n",
       "    </tr>\n",
       "    <tr>\n",
       "      <th>2</th>\n",
       "      <td>0004-TLHLJ</td>\n",
       "      <td>Yes</td>\n",
       "    </tr>\n",
       "    <tr>\n",
       "      <th>3</th>\n",
       "      <td>0011-IGKFF</td>\n",
       "      <td>Yes</td>\n",
       "    </tr>\n",
       "    <tr>\n",
       "      <th>4</th>\n",
       "      <td>0013-EXCHZ</td>\n",
       "      <td>Yes</td>\n",
       "    </tr>\n",
       "    <tr>\n",
       "      <th>...</th>\n",
       "      <td>...</td>\n",
       "      <td>...</td>\n",
       "    </tr>\n",
       "    <tr>\n",
       "      <th>7262</th>\n",
       "      <td>9987-LUTYD</td>\n",
       "      <td>No</td>\n",
       "    </tr>\n",
       "    <tr>\n",
       "      <th>7263</th>\n",
       "      <td>9992-RRAMN</td>\n",
       "      <td>Yes</td>\n",
       "    </tr>\n",
       "    <tr>\n",
       "      <th>7264</th>\n",
       "      <td>9992-UJOEL</td>\n",
       "      <td>No</td>\n",
       "    </tr>\n",
       "    <tr>\n",
       "      <th>7265</th>\n",
       "      <td>9993-LHIEB</td>\n",
       "      <td>No</td>\n",
       "    </tr>\n",
       "    <tr>\n",
       "      <th>7266</th>\n",
       "      <td>9995-HOTOH</td>\n",
       "      <td>No</td>\n",
       "    </tr>\n",
       "  </tbody>\n",
       "</table>\n",
       "<p>7267 rows × 2 columns</p>\n",
       "</div>"
      ],
      "text/plain": [
       "      customerID Churn\n",
       "0     0002-ORFBO    No\n",
       "1     0003-MKNFE    No\n",
       "2     0004-TLHLJ   Yes\n",
       "3     0011-IGKFF   Yes\n",
       "4     0013-EXCHZ   Yes\n",
       "...          ...   ...\n",
       "7262  9987-LUTYD    No\n",
       "7263  9992-RRAMN   Yes\n",
       "7264  9992-UJOEL    No\n",
       "7265  9993-LHIEB    No\n",
       "7266  9995-HOTOH    No\n",
       "\n",
       "[7267 rows x 2 columns]"
      ]
     },
     "execution_count": 3,
     "metadata": {},
     "output_type": "execute_result"
    }
   ],
   "source": [
    "df_main = pd.read_json(r'C:\\Users\\Usuario\\Desktop\\proyectos\\Telecom-X\\data\\normalizada\\telecomX_normalizado.json')\n",
    "df_main"
   ]
  },
  {
   "cell_type": "code",
   "execution_count": null,
   "id": "4ec92509",
   "metadata": {},
   "outputs": [],
   "source": [
    "df_phone = pd.read_json(r'C:\\Users\\Usuario\\Desktop\\proyectos\\Telecom-X\\data\\normalizada\\phone_normalizado.json')"
   ]
  },
  {
   "cell_type": "code",
   "execution_count": 19,
   "id": "23254bde",
   "metadata": {},
   "outputs": [],
   "source": [
    "df_phone['customerID'] = df_main['customerID']"
   ]
  },
  {
   "cell_type": "code",
   "execution_count": 20,
   "id": "f33e0689",
   "metadata": {},
   "outputs": [],
   "source": [
    "cols = ['customerID'] + [col for col in df_phone.columns if col != 'customerID']\n",
    "df_phone = df_phone[cols]"
   ]
  },
  {
   "cell_type": "code",
   "execution_count": 27,
   "id": "d39b5d8f",
   "metadata": {},
   "outputs": [],
   "source": [
    "# Guardar la nueva tabla hija con customerID agregado\n",
    "df_phone.to_json('phone.json', orient='records', lines=False)"
   ]
  },
  {
   "cell_type": "code",
   "execution_count": 28,
   "id": "44eda963",
   "metadata": {},
   "outputs": [
    {
     "data": {
      "application/vnd.microsoft.datawrangler.viewer.v0+json": {
       "columns": [
        {
         "name": "index",
         "rawType": "int64",
         "type": "integer"
        },
        {
         "name": "Contract",
         "rawType": "object",
         "type": "string"
        },
        {
         "name": "PaperlessBilling",
         "rawType": "object",
         "type": "string"
        },
        {
         "name": "PaymentMethod",
         "rawType": "object",
         "type": "string"
        },
        {
         "name": "Charges.Monthly",
         "rawType": "float64",
         "type": "float"
        },
        {
         "name": "Charges.Total",
         "rawType": "object",
         "type": "string"
        }
       ],
       "ref": "6ab2d33b-1542-43dd-8076-3ee2598b458c",
       "rows": [
        [
         "0",
         "One year",
         "Yes",
         "Mailed check",
         "65.6",
         "593.3"
        ],
        [
         "1",
         "Month-to-month",
         "No",
         "Mailed check",
         "59.9",
         "542.4"
        ],
        [
         "2",
         "Month-to-month",
         "Yes",
         "Electronic check",
         "73.9",
         "280.85"
        ],
        [
         "3",
         "Month-to-month",
         "Yes",
         "Electronic check",
         "98.0",
         "1237.85"
        ],
        [
         "4",
         "Month-to-month",
         "Yes",
         "Mailed check",
         "83.9",
         "267.4"
        ],
        [
         "5",
         "Month-to-month",
         "Yes",
         "Credit card (automatic)",
         "69.4",
         "571.45"
        ],
        [
         "6",
         "Two year",
         "Yes",
         "Bank transfer (automatic)",
         "109.7",
         "7904.25"
        ],
        [
         "7",
         "Two year",
         "Yes",
         "Credit card (automatic)",
         "84.65",
         "5377.8"
        ],
        [
         "8",
         "Month-to-month",
         "Yes",
         "Electronic check",
         "48.2",
         "340.35"
        ],
        [
         "9",
         "Two year",
         "Yes",
         "Mailed check",
         "90.45",
         "5957.9"
        ],
        [
         "10",
         "Two year",
         "No",
         "Credit card (automatic)",
         "45.2",
         "2460.55"
        ],
        [
         "11",
         "Two year",
         "Yes",
         "Credit card (automatic)",
         "116.8",
         "8456.75"
        ],
        [
         "12",
         "Month-to-month",
         "Yes",
         "Electronic check",
         "68.95",
         "351.5"
        ],
        [
         "13",
         "Two year",
         "Yes",
         "Bank transfer (automatic)",
         "101.3",
         "7261.25"
        ],
        [
         "14",
         "Two year",
         "No",
         "Bank transfer (automatic)",
         "45.05",
         "2560.1"
        ],
        [
         "15",
         "Two year",
         "Yes",
         "Credit card (automatic)",
         "95.75",
         "6849.4"
        ],
        [
         "16",
         "One year",
         "No",
         "Mailed check",
         "61.25",
         "1993.2"
        ],
        [
         "17",
         "Month-to-month",
         "Yes",
         "Electronic check",
         "72.1",
         "72.1"
        ],
        [
         "18",
         "One year",
         "No",
         "Credit card (automatic)",
         "62.7",
         "2791.5"
        ],
        [
         "19",
         "Month-to-month",
         "Yes",
         "Electronic check",
         "25.1",
         "25.1"
        ],
        [
         "20",
         "One year",
         "No",
         "Electronic check",
         "25.2",
         "1306.3"
        ],
        [
         "21",
         "Month-to-month",
         "No",
         "Electronic check",
         "94.1",
         "1215.6"
        ],
        [
         "22",
         "Month-to-month",
         "Yes",
         "Electronic check",
         "83.75",
         "1849.95"
        ],
        [
         "23",
         "Month-to-month",
         "No",
         "Mailed check",
         "19.85",
         "57.2"
        ],
        [
         "24",
         "Month-to-month",
         "No",
         "Mailed check",
         "20.35",
         "76.35"
        ],
        [
         "25",
         "Month-to-month",
         "No",
         "Bank transfer (automatic)",
         "30.5",
         "30.5"
        ],
        [
         "26",
         "One year",
         "Yes",
         "Bank transfer (automatic)",
         "103.7",
         "5656.75"
        ],
        [
         "27",
         "Two year",
         "No",
         "Credit card (automatic)",
         "20.4",
         "1090.6"
        ],
        [
         "28",
         "One year",
         "Yes",
         "Bank transfer (automatic)",
         "19.6",
         "471.85"
        ],
        [
         "29",
         "Two year",
         "No",
         "Bank transfer (automatic)",
         "19.7",
         "1396.9"
        ],
        [
         "30",
         "Month-to-month",
         "Yes",
         "Bank transfer (automatic)",
         "79.0",
         "929.3"
        ],
        [
         "31",
         "One year",
         "No",
         "Credit card (automatic)",
         "91.2",
         "3247.55"
        ],
        [
         "32",
         "One year",
         "No",
         "Bank transfer (automatic)",
         "20.45",
         "900.9"
        ],
        [
         "33",
         "One year",
         "No",
         "Bank transfer (automatic)",
         "115.8",
         "7942.15"
        ],
        [
         "34",
         "One year",
         "No",
         "Electronic check",
         "20.55",
         "1343.4"
        ],
        [
         "35",
         "Two year",
         "Yes",
         "Credit card (automatic)",
         "39.4",
         "825.4"
        ],
        [
         "36",
         "Two year",
         "Yes",
         "Electronic check",
         "25.1",
         "1070.15"
        ],
        [
         "37",
         "Month-to-month",
         "Yes",
         "Bank transfer (automatic)",
         "89.8",
         "4959.6"
        ],
        [
         "38",
         "Month-to-month",
         "Yes",
         "Electronic check",
         "94.75",
         "5597.65"
        ],
        [
         "39",
         "Two year",
         "No",
         "Bank transfer (automatic)",
         "20.3",
         "224.5"
        ],
        [
         "40",
         "Month-to-month",
         "Yes",
         "Bank transfer (automatic)",
         "75.75",
         "1929"
        ],
        [
         "41",
         "Month-to-month",
         "Yes",
         "Electronic check",
         "49.25",
         "91.1"
        ],
        [
         "42",
         "One year",
         "No",
         "Mailed check",
         "78.2",
         "2078.95"
        ],
        [
         "43",
         "Two year",
         "No",
         "Credit card (automatic)",
         "25.5",
         "630.6"
        ],
        [
         "44",
         "One year",
         "Yes",
         "Bank transfer (automatic)",
         "61.6",
         "1611"
        ],
        [
         "45",
         "Month-to-month",
         "Yes",
         "Mailed check",
         "45.0",
         "1242.45"
        ],
        [
         "46",
         "Two year",
         "Yes",
         "Bank transfer (automatic)",
         "85.15",
         "6316.2"
        ],
        [
         "47",
         "One year",
         "No",
         "Credit card (automatic)",
         "51.45",
         "727.85"
        ],
        [
         "48",
         "One year",
         "Yes",
         "Electronic check",
         "99.25",
         "3532"
        ],
        [
         "49",
         "Month-to-month",
         "Yes",
         "Mailed check",
         "44.3",
         "44.3"
        ]
       ],
       "shape": {
        "columns": 5,
        "rows": 7267
       }
      },
      "text/html": [
       "<div>\n",
       "<style scoped>\n",
       "    .dataframe tbody tr th:only-of-type {\n",
       "        vertical-align: middle;\n",
       "    }\n",
       "\n",
       "    .dataframe tbody tr th {\n",
       "        vertical-align: top;\n",
       "    }\n",
       "\n",
       "    .dataframe thead th {\n",
       "        text-align: right;\n",
       "    }\n",
       "</style>\n",
       "<table border=\"1\" class=\"dataframe\">\n",
       "  <thead>\n",
       "    <tr style=\"text-align: right;\">\n",
       "      <th></th>\n",
       "      <th>Contract</th>\n",
       "      <th>PaperlessBilling</th>\n",
       "      <th>PaymentMethod</th>\n",
       "      <th>Charges.Monthly</th>\n",
       "      <th>Charges.Total</th>\n",
       "    </tr>\n",
       "  </thead>\n",
       "  <tbody>\n",
       "    <tr>\n",
       "      <th>0</th>\n",
       "      <td>One year</td>\n",
       "      <td>Yes</td>\n",
       "      <td>Mailed check</td>\n",
       "      <td>65.60</td>\n",
       "      <td>593.3</td>\n",
       "    </tr>\n",
       "    <tr>\n",
       "      <th>1</th>\n",
       "      <td>Month-to-month</td>\n",
       "      <td>No</td>\n",
       "      <td>Mailed check</td>\n",
       "      <td>59.90</td>\n",
       "      <td>542.4</td>\n",
       "    </tr>\n",
       "    <tr>\n",
       "      <th>2</th>\n",
       "      <td>Month-to-month</td>\n",
       "      <td>Yes</td>\n",
       "      <td>Electronic check</td>\n",
       "      <td>73.90</td>\n",
       "      <td>280.85</td>\n",
       "    </tr>\n",
       "    <tr>\n",
       "      <th>3</th>\n",
       "      <td>Month-to-month</td>\n",
       "      <td>Yes</td>\n",
       "      <td>Electronic check</td>\n",
       "      <td>98.00</td>\n",
       "      <td>1237.85</td>\n",
       "    </tr>\n",
       "    <tr>\n",
       "      <th>4</th>\n",
       "      <td>Month-to-month</td>\n",
       "      <td>Yes</td>\n",
       "      <td>Mailed check</td>\n",
       "      <td>83.90</td>\n",
       "      <td>267.4</td>\n",
       "    </tr>\n",
       "    <tr>\n",
       "      <th>...</th>\n",
       "      <td>...</td>\n",
       "      <td>...</td>\n",
       "      <td>...</td>\n",
       "      <td>...</td>\n",
       "      <td>...</td>\n",
       "    </tr>\n",
       "    <tr>\n",
       "      <th>7262</th>\n",
       "      <td>One year</td>\n",
       "      <td>No</td>\n",
       "      <td>Mailed check</td>\n",
       "      <td>55.15</td>\n",
       "      <td>742.9</td>\n",
       "    </tr>\n",
       "    <tr>\n",
       "      <th>7263</th>\n",
       "      <td>Month-to-month</td>\n",
       "      <td>Yes</td>\n",
       "      <td>Electronic check</td>\n",
       "      <td>85.10</td>\n",
       "      <td>1873.7</td>\n",
       "    </tr>\n",
       "    <tr>\n",
       "      <th>7264</th>\n",
       "      <td>Month-to-month</td>\n",
       "      <td>Yes</td>\n",
       "      <td>Mailed check</td>\n",
       "      <td>50.30</td>\n",
       "      <td>92.75</td>\n",
       "    </tr>\n",
       "    <tr>\n",
       "      <th>7265</th>\n",
       "      <td>Two year</td>\n",
       "      <td>No</td>\n",
       "      <td>Mailed check</td>\n",
       "      <td>67.85</td>\n",
       "      <td>4627.65</td>\n",
       "    </tr>\n",
       "    <tr>\n",
       "      <th>7266</th>\n",
       "      <td>Two year</td>\n",
       "      <td>No</td>\n",
       "      <td>Electronic check</td>\n",
       "      <td>59.00</td>\n",
       "      <td>3707.6</td>\n",
       "    </tr>\n",
       "  </tbody>\n",
       "</table>\n",
       "<p>7267 rows × 5 columns</p>\n",
       "</div>"
      ],
      "text/plain": [
       "            Contract PaperlessBilling     PaymentMethod  Charges.Monthly  \\\n",
       "0           One year              Yes      Mailed check            65.60   \n",
       "1     Month-to-month               No      Mailed check            59.90   \n",
       "2     Month-to-month              Yes  Electronic check            73.90   \n",
       "3     Month-to-month              Yes  Electronic check            98.00   \n",
       "4     Month-to-month              Yes      Mailed check            83.90   \n",
       "...              ...              ...               ...              ...   \n",
       "7262        One year               No      Mailed check            55.15   \n",
       "7263  Month-to-month              Yes  Electronic check            85.10   \n",
       "7264  Month-to-month              Yes      Mailed check            50.30   \n",
       "7265        Two year               No      Mailed check            67.85   \n",
       "7266        Two year               No  Electronic check            59.00   \n",
       "\n",
       "     Charges.Total  \n",
       "0            593.3  \n",
       "1            542.4  \n",
       "2           280.85  \n",
       "3          1237.85  \n",
       "4            267.4  \n",
       "...            ...  \n",
       "7262         742.9  \n",
       "7263        1873.7  \n",
       "7264         92.75  \n",
       "7265       4627.65  \n",
       "7266        3707.6  \n",
       "\n",
       "[7267 rows x 5 columns]"
      ]
     },
     "execution_count": 28,
     "metadata": {},
     "output_type": "execute_result"
    }
   ],
   "source": [
    "df_account = pd.read_json(r'C:\\Users\\Usuario\\Desktop\\proyectos\\Telecom-X\\data\\normalizada\\account_normalizado.json')\n",
    "df_account"
   ]
  },
  {
   "cell_type": "code",
   "execution_count": 29,
   "id": "4590c5e7",
   "metadata": {},
   "outputs": [],
   "source": [
    "df_account['customerID'] = df_main['customerID']"
   ]
  },
  {
   "cell_type": "code",
   "execution_count": 31,
   "id": "25b2cb32",
   "metadata": {},
   "outputs": [],
   "source": [
    "cols = ['customerID'] + [col for col in df_account.columns if col != 'customerID']\n",
    "df_account = df_account[cols]"
   ]
  },
  {
   "cell_type": "code",
   "execution_count": 32,
   "id": "bf0c8b95",
   "metadata": {},
   "outputs": [],
   "source": [
    "# Guardar la nueva tabla hija con customerID agregado\n",
    "df_account.to_json('account.json', orient='records', lines=False)"
   ]
  },
  {
   "cell_type": "code",
   "execution_count": 7,
   "id": "3c3ebf30",
   "metadata": {},
   "outputs": [
    {
     "data": {
      "application/vnd.microsoft.datawrangler.viewer.v0+json": {
       "columns": [
        {
         "name": "index",
         "rawType": "int64",
         "type": "integer"
        },
        {
         "name": "PhoneService",
         "rawType": "object",
         "type": "string"
        },
        {
         "name": "MultipleLines",
         "rawType": "object",
         "type": "string"
        }
       ],
       "ref": "1c010b88-3e8c-4e44-9645-a827a857b5ec",
       "rows": [
        [
         "0",
         "Yes",
         "No"
        ],
        [
         "1",
         "Yes",
         "Yes"
        ],
        [
         "2",
         "Yes",
         "No"
        ],
        [
         "3",
         "Yes",
         "No"
        ],
        [
         "4",
         "Yes",
         "No"
        ],
        [
         "5",
         "Yes",
         "No"
        ],
        [
         "6",
         "Yes",
         "No"
        ],
        [
         "7",
         "Yes",
         "Yes"
        ],
        [
         "8",
         "Yes",
         "No"
        ],
        [
         "9",
         "Yes",
         "Yes"
        ],
        [
         "10",
         "No",
         "No phone service"
        ],
        [
         "11",
         "Yes",
         "Yes"
        ],
        [
         "12",
         "Yes",
         "No"
        ],
        [
         "13",
         "Yes",
         "Yes"
        ],
        [
         "14",
         "No",
         "No phone service"
        ],
        [
         "15",
         "Yes",
         "Yes"
        ],
        [
         "16",
         "No",
         "No phone service"
        ],
        [
         "17",
         "Yes",
         "Yes"
        ],
        [
         "18",
         "Yes",
         "No"
        ],
        [
         "19",
         "No",
         "No phone service"
        ],
        [
         "20",
         "Yes",
         "Yes"
        ],
        [
         "21",
         "Yes",
         "Yes"
        ],
        [
         "22",
         "Yes",
         "Yes"
        ],
        [
         "23",
         "Yes",
         "No"
        ],
        [
         "24",
         "Yes",
         "No"
        ],
        [
         "25",
         "No",
         "No phone service"
        ],
        [
         "26",
         "Yes",
         "No"
        ],
        [
         "27",
         "Yes",
         "No"
        ],
        [
         "28",
         "Yes",
         "No"
        ],
        [
         "29",
         "Yes",
         "No"
        ],
        [
         "30",
         "Yes",
         "Yes"
        ],
        [
         "31",
         "Yes",
         "No"
        ],
        [
         "32",
         "Yes",
         "No"
        ],
        [
         "33",
         "Yes",
         "Yes"
        ],
        [
         "34",
         "Yes",
         "No"
        ],
        [
         "35",
         "No",
         "No phone service"
        ],
        [
         "36",
         "Yes",
         "Yes"
        ],
        [
         "37",
         "Yes",
         "Yes"
        ],
        [
         "38",
         "Yes",
         "Yes"
        ],
        [
         "39",
         "Yes",
         "No"
        ],
        [
         "40",
         "Yes",
         "Yes"
        ],
        [
         "41",
         "Yes",
         "No"
        ],
        [
         "42",
         "Yes",
         "No"
        ],
        [
         "43",
         "Yes",
         "Yes"
        ],
        [
         "44",
         "Yes",
         "No"
        ],
        [
         "45",
         "No",
         "No phone service"
        ],
        [
         "46",
         "Yes",
         "Yes"
        ],
        [
         "47",
         "Yes",
         "No"
        ],
        [
         "48",
         "Yes",
         "No"
        ],
        [
         "49",
         "Yes",
         "No"
        ]
       ],
       "shape": {
        "columns": 2,
        "rows": 7267
       }
      },
      "text/html": [
       "<div>\n",
       "<style scoped>\n",
       "    .dataframe tbody tr th:only-of-type {\n",
       "        vertical-align: middle;\n",
       "    }\n",
       "\n",
       "    .dataframe tbody tr th {\n",
       "        vertical-align: top;\n",
       "    }\n",
       "\n",
       "    .dataframe thead th {\n",
       "        text-align: right;\n",
       "    }\n",
       "</style>\n",
       "<table border=\"1\" class=\"dataframe\">\n",
       "  <thead>\n",
       "    <tr style=\"text-align: right;\">\n",
       "      <th></th>\n",
       "      <th>PhoneService</th>\n",
       "      <th>MultipleLines</th>\n",
       "    </tr>\n",
       "  </thead>\n",
       "  <tbody>\n",
       "    <tr>\n",
       "      <th>0</th>\n",
       "      <td>Yes</td>\n",
       "      <td>No</td>\n",
       "    </tr>\n",
       "    <tr>\n",
       "      <th>1</th>\n",
       "      <td>Yes</td>\n",
       "      <td>Yes</td>\n",
       "    </tr>\n",
       "    <tr>\n",
       "      <th>2</th>\n",
       "      <td>Yes</td>\n",
       "      <td>No</td>\n",
       "    </tr>\n",
       "    <tr>\n",
       "      <th>3</th>\n",
       "      <td>Yes</td>\n",
       "      <td>No</td>\n",
       "    </tr>\n",
       "    <tr>\n",
       "      <th>4</th>\n",
       "      <td>Yes</td>\n",
       "      <td>No</td>\n",
       "    </tr>\n",
       "    <tr>\n",
       "      <th>...</th>\n",
       "      <td>...</td>\n",
       "      <td>...</td>\n",
       "    </tr>\n",
       "    <tr>\n",
       "      <th>7262</th>\n",
       "      <td>Yes</td>\n",
       "      <td>No</td>\n",
       "    </tr>\n",
       "    <tr>\n",
       "      <th>7263</th>\n",
       "      <td>Yes</td>\n",
       "      <td>Yes</td>\n",
       "    </tr>\n",
       "    <tr>\n",
       "      <th>7264</th>\n",
       "      <td>Yes</td>\n",
       "      <td>No</td>\n",
       "    </tr>\n",
       "    <tr>\n",
       "      <th>7265</th>\n",
       "      <td>Yes</td>\n",
       "      <td>No</td>\n",
       "    </tr>\n",
       "    <tr>\n",
       "      <th>7266</th>\n",
       "      <td>No</td>\n",
       "      <td>No phone service</td>\n",
       "    </tr>\n",
       "  </tbody>\n",
       "</table>\n",
       "<p>7267 rows × 2 columns</p>\n",
       "</div>"
      ],
      "text/plain": [
       "     PhoneService     MultipleLines\n",
       "0             Yes                No\n",
       "1             Yes               Yes\n",
       "2             Yes                No\n",
       "3             Yes                No\n",
       "4             Yes                No\n",
       "...           ...               ...\n",
       "7262          Yes                No\n",
       "7263          Yes               Yes\n",
       "7264          Yes                No\n",
       "7265          Yes                No\n",
       "7266           No  No phone service\n",
       "\n",
       "[7267 rows x 2 columns]"
      ]
     },
     "execution_count": 7,
     "metadata": {},
     "output_type": "execute_result"
    }
   ],
   "source": [
    "df_customer = pd.read_json(r'C:\\Users\\Usuario\\Desktop\\proyectos\\Telecom-X\\data\\normalizada\\customer_normalizado.json')\n",
    "df_customer"
   ]
  },
  {
   "cell_type": "code",
   "execution_count": 8,
   "id": "0f04ad9b",
   "metadata": {},
   "outputs": [],
   "source": [
    "df_customer['customerID'] = df_main['customerID']"
   ]
  },
  {
   "cell_type": "code",
   "execution_count": 9,
   "id": "03cf1492",
   "metadata": {},
   "outputs": [],
   "source": [
    "cols = ['customerID'] + [col for col in df_customer.columns if col != 'customerID']\n",
    "df_customer = df_customer[cols]"
   ]
  },
  {
   "cell_type": "code",
   "execution_count": 11,
   "id": "1b5ca426",
   "metadata": {},
   "outputs": [],
   "source": [
    "df_customer.to_json('customer.json', orient='records', lines=False)"
   ]
  },
  {
   "cell_type": "code",
   "execution_count": 13,
   "id": "9d6aa1ac",
   "metadata": {},
   "outputs": [
    {
     "data": {
      "application/vnd.microsoft.datawrangler.viewer.v0+json": {
       "columns": [
        {
         "name": "index",
         "rawType": "int64",
         "type": "integer"
        },
        {
         "name": "InternetService",
         "rawType": "object",
         "type": "string"
        },
        {
         "name": "OnlineSecurity",
         "rawType": "object",
         "type": "string"
        },
        {
         "name": "OnlineBackup",
         "rawType": "object",
         "type": "string"
        },
        {
         "name": "DeviceProtection",
         "rawType": "object",
         "type": "string"
        },
        {
         "name": "TechSupport",
         "rawType": "object",
         "type": "string"
        },
        {
         "name": "StreamingTV",
         "rawType": "object",
         "type": "string"
        },
        {
         "name": "StreamingMovies",
         "rawType": "object",
         "type": "string"
        }
       ],
       "ref": "3e18b46a-0d08-46fd-bdfc-ef38ad77ad83",
       "rows": [
        [
         "0",
         "DSL",
         "No",
         "Yes",
         "No",
         "Yes",
         "Yes",
         "No"
        ],
        [
         "1",
         "DSL",
         "No",
         "No",
         "No",
         "No",
         "No",
         "Yes"
        ],
        [
         "2",
         "Fiber optic",
         "No",
         "No",
         "Yes",
         "No",
         "No",
         "No"
        ],
        [
         "3",
         "Fiber optic",
         "No",
         "Yes",
         "Yes",
         "No",
         "Yes",
         "Yes"
        ],
        [
         "4",
         "Fiber optic",
         "No",
         "No",
         "No",
         "Yes",
         "Yes",
         "No"
        ],
        [
         "5",
         "DSL",
         "No",
         "No",
         "No",
         "Yes",
         "Yes",
         "Yes"
        ],
        [
         "6",
         "Fiber optic",
         "Yes",
         "Yes",
         "Yes",
         "Yes",
         "Yes",
         "Yes"
        ],
        [
         "7",
         "Fiber optic",
         "Yes",
         "No",
         "No",
         "Yes",
         "No",
         "No"
        ],
        [
         "8",
         "DSL",
         "Yes",
         "No",
         "No",
         "No",
         "No",
         "No"
        ],
        [
         "9",
         "DSL",
         "Yes",
         "Yes",
         "Yes",
         "Yes",
         "Yes",
         "Yes"
        ],
        [
         "10",
         "DSL",
         "Yes",
         "No",
         "No",
         "Yes",
         "Yes",
         "No"
        ],
        [
         "11",
         "Fiber optic",
         "Yes",
         "Yes",
         "Yes",
         "Yes",
         "Yes",
         "Yes"
        ],
        [
         "12",
         "Fiber optic",
         "No",
         "No",
         "No",
         "No",
         "No",
         "No"
        ],
        [
         "13",
         "Fiber optic",
         "Yes",
         "Yes",
         "Yes",
         "No",
         "Yes",
         "No"
        ],
        [
         "14",
         "DSL",
         "Yes",
         "Yes",
         "Yes",
         "Yes",
         "No",
         "No"
        ],
        [
         "15",
         "Fiber optic",
         "No",
         "Yes",
         "Yes",
         "No",
         "No",
         "Yes"
        ],
        [
         "16",
         "DSL",
         "Yes",
         "No",
         "Yes",
         "Yes",
         "Yes",
         "Yes"
        ],
        [
         "17",
         "Fiber optic",
         "No",
         "No",
         "No",
         "No",
         "No",
         "No"
        ],
        [
         "18",
         "DSL",
         "Yes",
         "No",
         "Yes",
         "No",
         "No",
         "Yes"
        ],
        [
         "19",
         "DSL",
         "No",
         "No",
         "No",
         "No",
         "No",
         "No"
        ],
        [
         "20",
         "No",
         "No internet service",
         "No internet service",
         "No internet service",
         "No internet service",
         "No internet service",
         "No internet service"
        ],
        [
         "21",
         "Fiber optic",
         "No",
         "Yes",
         "Yes",
         "No",
         "Yes",
         "No"
        ],
        [
         "22",
         "Fiber optic",
         "No",
         "No",
         "No",
         "No",
         "Yes",
         "No"
        ],
        [
         "23",
         "No",
         "No internet service",
         "No internet service",
         "No internet service",
         "No internet service",
         "No internet service",
         "No internet service"
        ],
        [
         "24",
         "No",
         "No internet service",
         "No internet service",
         "No internet service",
         "No internet service",
         "No internet service",
         "No internet service"
        ],
        [
         "25",
         "DSL",
         "Yes",
         "No",
         "No",
         "No",
         "No",
         "No"
        ],
        [
         "26",
         "Fiber optic",
         "No",
         "Yes",
         "Yes",
         "Yes",
         "Yes",
         "Yes"
        ],
        [
         "27",
         "No",
         "No internet service",
         "No internet service",
         "No internet service",
         "No internet service",
         "No internet service",
         "No internet service"
        ],
        [
         "28",
         "No",
         "No internet service",
         "No internet service",
         "No internet service",
         "No internet service",
         "No internet service",
         "No internet service"
        ],
        [
         "29",
         "No",
         "No internet service",
         "No internet service",
         "No internet service",
         "No internet service",
         "No internet service",
         "No internet service"
        ],
        [
         "30",
         "Fiber optic",
         "Yes",
         "No",
         "No",
         "No",
         "No",
         "No"
        ],
        [
         "31",
         "Fiber optic",
         "No",
         "No",
         "No",
         "No",
         "Yes",
         "Yes"
        ],
        [
         "32",
         "No",
         "No internet service",
         "No internet service",
         "No internet service",
         "No internet service",
         "No internet service",
         "No internet service"
        ],
        [
         "33",
         "Fiber optic",
         "Yes",
         "Yes",
         "Yes",
         "Yes",
         "Yes",
         "Yes"
        ],
        [
         "34",
         "No",
         "No internet service",
         "No internet service",
         "No internet service",
         "No internet service",
         "No internet service",
         "No internet service"
        ],
        [
         "35",
         "DSL",
         "Yes",
         "No",
         "Yes",
         "Yes",
         "No",
         "No"
        ],
        [
         "36",
         "No",
         "No internet service",
         "No internet service",
         "No internet service",
         "No internet service",
         "No internet service",
         "No internet service"
        ],
        [
         "37",
         "Fiber optic",
         "Yes",
         "No",
         "No",
         "No",
         "Yes",
         "No"
        ],
        [
         "38",
         "Fiber optic",
         "Yes",
         "Yes",
         "No",
         "No",
         "Yes",
         "No"
        ],
        [
         "39",
         "No",
         "No internet service",
         "No internet service",
         "No internet service",
         "No internet service",
         "No internet service",
         "No internet service"
        ],
        [
         "40",
         "Fiber optic",
         "No",
         "No",
         "No",
         "No",
         "No",
         "No"
        ],
        [
         "41",
         "DSL",
         "Yes",
         "No",
         "No",
         "No",
         "No",
         "No"
        ],
        [
         "42",
         "DSL",
         "No",
         "Yes",
         "Yes",
         "Yes",
         "Yes",
         "Yes"
        ],
        [
         "43",
         "No",
         "No internet service",
         "No internet service",
         "No internet service",
         "No internet service",
         "No internet service",
         "No internet service"
        ],
        [
         "44",
         "DSL",
         "Yes",
         "Yes",
         "Yes",
         "No",
         "No",
         "No"
        ],
        [
         "45",
         "DSL",
         "Yes",
         "Yes",
         "Yes",
         "Yes",
         "No",
         "No"
        ],
        [
         "46",
         "DSL",
         "No",
         "Yes",
         "Yes",
         "Yes",
         "Yes",
         "Yes"
        ],
        [
         "47",
         "DSL",
         "No",
         "Yes",
         "No",
         "No",
         "No",
         "No"
        ],
        [
         "48",
         "Fiber optic",
         "No",
         "No",
         "Yes",
         "Yes",
         "Yes",
         "Yes"
        ],
        [
         "49",
         "DSL",
         "No",
         "No",
         "No",
         "No",
         "No",
         "No"
        ]
       ],
       "shape": {
        "columns": 7,
        "rows": 7267
       }
      },
      "text/html": [
       "<div>\n",
       "<style scoped>\n",
       "    .dataframe tbody tr th:only-of-type {\n",
       "        vertical-align: middle;\n",
       "    }\n",
       "\n",
       "    .dataframe tbody tr th {\n",
       "        vertical-align: top;\n",
       "    }\n",
       "\n",
       "    .dataframe thead th {\n",
       "        text-align: right;\n",
       "    }\n",
       "</style>\n",
       "<table border=\"1\" class=\"dataframe\">\n",
       "  <thead>\n",
       "    <tr style=\"text-align: right;\">\n",
       "      <th></th>\n",
       "      <th>InternetService</th>\n",
       "      <th>OnlineSecurity</th>\n",
       "      <th>OnlineBackup</th>\n",
       "      <th>DeviceProtection</th>\n",
       "      <th>TechSupport</th>\n",
       "      <th>StreamingTV</th>\n",
       "      <th>StreamingMovies</th>\n",
       "    </tr>\n",
       "  </thead>\n",
       "  <tbody>\n",
       "    <tr>\n",
       "      <th>0</th>\n",
       "      <td>DSL</td>\n",
       "      <td>No</td>\n",
       "      <td>Yes</td>\n",
       "      <td>No</td>\n",
       "      <td>Yes</td>\n",
       "      <td>Yes</td>\n",
       "      <td>No</td>\n",
       "    </tr>\n",
       "    <tr>\n",
       "      <th>1</th>\n",
       "      <td>DSL</td>\n",
       "      <td>No</td>\n",
       "      <td>No</td>\n",
       "      <td>No</td>\n",
       "      <td>No</td>\n",
       "      <td>No</td>\n",
       "      <td>Yes</td>\n",
       "    </tr>\n",
       "    <tr>\n",
       "      <th>2</th>\n",
       "      <td>Fiber optic</td>\n",
       "      <td>No</td>\n",
       "      <td>No</td>\n",
       "      <td>Yes</td>\n",
       "      <td>No</td>\n",
       "      <td>No</td>\n",
       "      <td>No</td>\n",
       "    </tr>\n",
       "    <tr>\n",
       "      <th>3</th>\n",
       "      <td>Fiber optic</td>\n",
       "      <td>No</td>\n",
       "      <td>Yes</td>\n",
       "      <td>Yes</td>\n",
       "      <td>No</td>\n",
       "      <td>Yes</td>\n",
       "      <td>Yes</td>\n",
       "    </tr>\n",
       "    <tr>\n",
       "      <th>4</th>\n",
       "      <td>Fiber optic</td>\n",
       "      <td>No</td>\n",
       "      <td>No</td>\n",
       "      <td>No</td>\n",
       "      <td>Yes</td>\n",
       "      <td>Yes</td>\n",
       "      <td>No</td>\n",
       "    </tr>\n",
       "    <tr>\n",
       "      <th>...</th>\n",
       "      <td>...</td>\n",
       "      <td>...</td>\n",
       "      <td>...</td>\n",
       "      <td>...</td>\n",
       "      <td>...</td>\n",
       "      <td>...</td>\n",
       "      <td>...</td>\n",
       "    </tr>\n",
       "    <tr>\n",
       "      <th>7262</th>\n",
       "      <td>DSL</td>\n",
       "      <td>Yes</td>\n",
       "      <td>No</td>\n",
       "      <td>No</td>\n",
       "      <td>Yes</td>\n",
       "      <td>No</td>\n",
       "      <td>No</td>\n",
       "    </tr>\n",
       "    <tr>\n",
       "      <th>7263</th>\n",
       "      <td>Fiber optic</td>\n",
       "      <td>No</td>\n",
       "      <td>No</td>\n",
       "      <td>No</td>\n",
       "      <td>No</td>\n",
       "      <td>No</td>\n",
       "      <td>Yes</td>\n",
       "    </tr>\n",
       "    <tr>\n",
       "      <th>7264</th>\n",
       "      <td>DSL</td>\n",
       "      <td>No</td>\n",
       "      <td>Yes</td>\n",
       "      <td>No</td>\n",
       "      <td>No</td>\n",
       "      <td>No</td>\n",
       "      <td>No</td>\n",
       "    </tr>\n",
       "    <tr>\n",
       "      <th>7265</th>\n",
       "      <td>DSL</td>\n",
       "      <td>Yes</td>\n",
       "      <td>No</td>\n",
       "      <td>Yes</td>\n",
       "      <td>Yes</td>\n",
       "      <td>No</td>\n",
       "      <td>Yes</td>\n",
       "    </tr>\n",
       "    <tr>\n",
       "      <th>7266</th>\n",
       "      <td>DSL</td>\n",
       "      <td>Yes</td>\n",
       "      <td>Yes</td>\n",
       "      <td>Yes</td>\n",
       "      <td>No</td>\n",
       "      <td>Yes</td>\n",
       "      <td>Yes</td>\n",
       "    </tr>\n",
       "  </tbody>\n",
       "</table>\n",
       "<p>7267 rows × 7 columns</p>\n",
       "</div>"
      ],
      "text/plain": [
       "     InternetService OnlineSecurity OnlineBackup DeviceProtection TechSupport  \\\n",
       "0                DSL             No          Yes               No         Yes   \n",
       "1                DSL             No           No               No          No   \n",
       "2        Fiber optic             No           No              Yes          No   \n",
       "3        Fiber optic             No          Yes              Yes          No   \n",
       "4        Fiber optic             No           No               No         Yes   \n",
       "...              ...            ...          ...              ...         ...   \n",
       "7262             DSL            Yes           No               No         Yes   \n",
       "7263     Fiber optic             No           No               No          No   \n",
       "7264             DSL             No          Yes               No          No   \n",
       "7265             DSL            Yes           No              Yes         Yes   \n",
       "7266             DSL            Yes          Yes              Yes          No   \n",
       "\n",
       "     StreamingTV StreamingMovies  \n",
       "0            Yes              No  \n",
       "1             No             Yes  \n",
       "2             No              No  \n",
       "3            Yes             Yes  \n",
       "4            Yes              No  \n",
       "...          ...             ...  \n",
       "7262          No              No  \n",
       "7263          No             Yes  \n",
       "7264          No              No  \n",
       "7265          No             Yes  \n",
       "7266         Yes             Yes  \n",
       "\n",
       "[7267 rows x 7 columns]"
      ]
     },
     "execution_count": 13,
     "metadata": {},
     "output_type": "execute_result"
    }
   ],
   "source": [
    "df_internet = pd.read_json(r'C:\\Users\\Usuario\\Desktop\\proyectos\\Telecom-X\\data\\normalizada\\internet_normalizado.json')\n",
    "df_internet"
   ]
  },
  {
   "cell_type": "code",
   "execution_count": 14,
   "id": "c0eda97d",
   "metadata": {},
   "outputs": [],
   "source": [
    "df_internet['customerID'] = df_main['customerID']"
   ]
  },
  {
   "cell_type": "code",
   "execution_count": 15,
   "id": "2b50c961",
   "metadata": {},
   "outputs": [],
   "source": [
    "cols = ['customerID'] + [col for col in df_internet.columns if col != 'customerID']\n",
    "df_internet = df_internet[cols]"
   ]
  },
  {
   "cell_type": "code",
   "execution_count": 16,
   "id": "5cc7324e",
   "metadata": {},
   "outputs": [],
   "source": [
    "df_internet.to_json('internet.json', orient='records', lines=False)"
   ]
  }
 ],
 "metadata": {
  "kernelspec": {
   "display_name": "base",
   "language": "python",
   "name": "python3"
  },
  "language_info": {
   "codemirror_mode": {
    "name": "ipython",
    "version": 3
   },
   "file_extension": ".py",
   "mimetype": "text/x-python",
   "name": "python",
   "nbconvert_exporter": "python",
   "pygments_lexer": "ipython3",
   "version": "3.12.7"
  }
 },
 "nbformat": 4,
 "nbformat_minor": 5
}
