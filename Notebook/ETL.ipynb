{
 "cells": [
  {
   "cell_type": "code",
   "execution_count": 10,
   "id": "7d7ca47f",
   "metadata": {},
   "outputs": [],
   "source": [
    "import pandas as pd "
   ]
  },
  {
   "cell_type": "code",
   "execution_count": 11,
   "id": "96c0741c",
   "metadata": {},
   "outputs": [],
   "source": [
    "df = pd.read_json(r'C:\\Users\\Usuario\\Desktop\\proyectos\\Telecom-X\\data\\row\\TelecomX_Data.json')"
   ]
  },
  {
   "cell_type": "code",
   "execution_count": 12,
   "id": "38526432",
   "metadata": {},
   "outputs": [
    {
     "data": {
      "text/plain": [
       "(7267, 6)"
      ]
     },
     "execution_count": 12,
     "metadata": {},
     "output_type": "execute_result"
    }
   ],
   "source": [
    "df.shape"
   ]
  },
  {
   "cell_type": "code",
   "execution_count": 13,
   "id": "36e9b56e",
   "metadata": {},
   "outputs": [
    {
     "data": {
      "application/vnd.microsoft.datawrangler.viewer.v0+json": {
       "columns": [
        {
         "name": "index",
         "rawType": "int64",
         "type": "integer"
        },
        {
         "name": "customerID",
         "rawType": "object",
         "type": "string"
        },
        {
         "name": "Churn",
         "rawType": "object",
         "type": "string"
        },
        {
         "name": "customer",
         "rawType": "object",
         "type": "unknown"
        },
        {
         "name": "phone",
         "rawType": "object",
         "type": "unknown"
        },
        {
         "name": "internet",
         "rawType": "object",
         "type": "unknown"
        },
        {
         "name": "account",
         "rawType": "object",
         "type": "unknown"
        }
       ],
       "ref": "3e00bb9a-f256-4a69-a3a7-256fc57cbc87",
       "rows": [
        [
         "0",
         "0002-ORFBO",
         "No",
         "{'gender': 'Female', 'SeniorCitizen': 0, 'Partner': 'Yes', 'Dependents': 'Yes', 'tenure': 9}",
         "{'PhoneService': 'Yes', 'MultipleLines': 'No'}",
         "{'InternetService': 'DSL', 'OnlineSecurity': 'No', 'OnlineBackup': 'Yes', 'DeviceProtection': 'No', 'TechSupport': 'Yes', 'StreamingTV': 'Yes', 'StreamingMovies': 'No'}",
         "{'Contract': 'One year', 'PaperlessBilling': 'Yes', 'PaymentMethod': 'Mailed check', 'Charges': {'Monthly': 65.6, 'Total': '593.3'}}"
        ],
        [
         "1",
         "0003-MKNFE",
         "No",
         "{'gender': 'Male', 'SeniorCitizen': 0, 'Partner': 'No', 'Dependents': 'No', 'tenure': 9}",
         "{'PhoneService': 'Yes', 'MultipleLines': 'Yes'}",
         "{'InternetService': 'DSL', 'OnlineSecurity': 'No', 'OnlineBackup': 'No', 'DeviceProtection': 'No', 'TechSupport': 'No', 'StreamingTV': 'No', 'StreamingMovies': 'Yes'}",
         "{'Contract': 'Month-to-month', 'PaperlessBilling': 'No', 'PaymentMethod': 'Mailed check', 'Charges': {'Monthly': 59.9, 'Total': '542.4'}}"
        ],
        [
         "2",
         "0004-TLHLJ",
         "Yes",
         "{'gender': 'Male', 'SeniorCitizen': 0, 'Partner': 'No', 'Dependents': 'No', 'tenure': 4}",
         "{'PhoneService': 'Yes', 'MultipleLines': 'No'}",
         "{'InternetService': 'Fiber optic', 'OnlineSecurity': 'No', 'OnlineBackup': 'No', 'DeviceProtection': 'Yes', 'TechSupport': 'No', 'StreamingTV': 'No', 'StreamingMovies': 'No'}",
         "{'Contract': 'Month-to-month', 'PaperlessBilling': 'Yes', 'PaymentMethod': 'Electronic check', 'Charges': {'Monthly': 73.9, 'Total': '280.85'}}"
        ],
        [
         "3",
         "0011-IGKFF",
         "Yes",
         "{'gender': 'Male', 'SeniorCitizen': 1, 'Partner': 'Yes', 'Dependents': 'No', 'tenure': 13}",
         "{'PhoneService': 'Yes', 'MultipleLines': 'No'}",
         "{'InternetService': 'Fiber optic', 'OnlineSecurity': 'No', 'OnlineBackup': 'Yes', 'DeviceProtection': 'Yes', 'TechSupport': 'No', 'StreamingTV': 'Yes', 'StreamingMovies': 'Yes'}",
         "{'Contract': 'Month-to-month', 'PaperlessBilling': 'Yes', 'PaymentMethod': 'Electronic check', 'Charges': {'Monthly': 98.0, 'Total': '1237.85'}}"
        ],
        [
         "4",
         "0013-EXCHZ",
         "Yes",
         "{'gender': 'Female', 'SeniorCitizen': 1, 'Partner': 'Yes', 'Dependents': 'No', 'tenure': 3}",
         "{'PhoneService': 'Yes', 'MultipleLines': 'No'}",
         "{'InternetService': 'Fiber optic', 'OnlineSecurity': 'No', 'OnlineBackup': 'No', 'DeviceProtection': 'No', 'TechSupport': 'Yes', 'StreamingTV': 'Yes', 'StreamingMovies': 'No'}",
         "{'Contract': 'Month-to-month', 'PaperlessBilling': 'Yes', 'PaymentMethod': 'Mailed check', 'Charges': {'Monthly': 83.9, 'Total': '267.4'}}"
        ]
       ],
       "shape": {
        "columns": 6,
        "rows": 5
       }
      },
      "text/html": [
       "<div>\n",
       "<style scoped>\n",
       "    .dataframe tbody tr th:only-of-type {\n",
       "        vertical-align: middle;\n",
       "    }\n",
       "\n",
       "    .dataframe tbody tr th {\n",
       "        vertical-align: top;\n",
       "    }\n",
       "\n",
       "    .dataframe thead th {\n",
       "        text-align: right;\n",
       "    }\n",
       "</style>\n",
       "<table border=\"1\" class=\"dataframe\">\n",
       "  <thead>\n",
       "    <tr style=\"text-align: right;\">\n",
       "      <th></th>\n",
       "      <th>customerID</th>\n",
       "      <th>Churn</th>\n",
       "      <th>customer</th>\n",
       "      <th>phone</th>\n",
       "      <th>internet</th>\n",
       "      <th>account</th>\n",
       "    </tr>\n",
       "  </thead>\n",
       "  <tbody>\n",
       "    <tr>\n",
       "      <th>0</th>\n",
       "      <td>0002-ORFBO</td>\n",
       "      <td>No</td>\n",
       "      <td>{'gender': 'Female', 'SeniorCitizen': 0, 'Part...</td>\n",
       "      <td>{'PhoneService': 'Yes', 'MultipleLines': 'No'}</td>\n",
       "      <td>{'InternetService': 'DSL', 'OnlineSecurity': '...</td>\n",
       "      <td>{'Contract': 'One year', 'PaperlessBilling': '...</td>\n",
       "    </tr>\n",
       "    <tr>\n",
       "      <th>1</th>\n",
       "      <td>0003-MKNFE</td>\n",
       "      <td>No</td>\n",
       "      <td>{'gender': 'Male', 'SeniorCitizen': 0, 'Partne...</td>\n",
       "      <td>{'PhoneService': 'Yes', 'MultipleLines': 'Yes'}</td>\n",
       "      <td>{'InternetService': 'DSL', 'OnlineSecurity': '...</td>\n",
       "      <td>{'Contract': 'Month-to-month', 'PaperlessBilli...</td>\n",
       "    </tr>\n",
       "    <tr>\n",
       "      <th>2</th>\n",
       "      <td>0004-TLHLJ</td>\n",
       "      <td>Yes</td>\n",
       "      <td>{'gender': 'Male', 'SeniorCitizen': 0, 'Partne...</td>\n",
       "      <td>{'PhoneService': 'Yes', 'MultipleLines': 'No'}</td>\n",
       "      <td>{'InternetService': 'Fiber optic', 'OnlineSecu...</td>\n",
       "      <td>{'Contract': 'Month-to-month', 'PaperlessBilli...</td>\n",
       "    </tr>\n",
       "    <tr>\n",
       "      <th>3</th>\n",
       "      <td>0011-IGKFF</td>\n",
       "      <td>Yes</td>\n",
       "      <td>{'gender': 'Male', 'SeniorCitizen': 1, 'Partne...</td>\n",
       "      <td>{'PhoneService': 'Yes', 'MultipleLines': 'No'}</td>\n",
       "      <td>{'InternetService': 'Fiber optic', 'OnlineSecu...</td>\n",
       "      <td>{'Contract': 'Month-to-month', 'PaperlessBilli...</td>\n",
       "    </tr>\n",
       "    <tr>\n",
       "      <th>4</th>\n",
       "      <td>0013-EXCHZ</td>\n",
       "      <td>Yes</td>\n",
       "      <td>{'gender': 'Female', 'SeniorCitizen': 1, 'Part...</td>\n",
       "      <td>{'PhoneService': 'Yes', 'MultipleLines': 'No'}</td>\n",
       "      <td>{'InternetService': 'Fiber optic', 'OnlineSecu...</td>\n",
       "      <td>{'Contract': 'Month-to-month', 'PaperlessBilli...</td>\n",
       "    </tr>\n",
       "  </tbody>\n",
       "</table>\n",
       "</div>"
      ],
      "text/plain": [
       "   customerID Churn                                           customer  \\\n",
       "0  0002-ORFBO    No  {'gender': 'Female', 'SeniorCitizen': 0, 'Part...   \n",
       "1  0003-MKNFE    No  {'gender': 'Male', 'SeniorCitizen': 0, 'Partne...   \n",
       "2  0004-TLHLJ   Yes  {'gender': 'Male', 'SeniorCitizen': 0, 'Partne...   \n",
       "3  0011-IGKFF   Yes  {'gender': 'Male', 'SeniorCitizen': 1, 'Partne...   \n",
       "4  0013-EXCHZ   Yes  {'gender': 'Female', 'SeniorCitizen': 1, 'Part...   \n",
       "\n",
       "                                             phone  \\\n",
       "0   {'PhoneService': 'Yes', 'MultipleLines': 'No'}   \n",
       "1  {'PhoneService': 'Yes', 'MultipleLines': 'Yes'}   \n",
       "2   {'PhoneService': 'Yes', 'MultipleLines': 'No'}   \n",
       "3   {'PhoneService': 'Yes', 'MultipleLines': 'No'}   \n",
       "4   {'PhoneService': 'Yes', 'MultipleLines': 'No'}   \n",
       "\n",
       "                                            internet  \\\n",
       "0  {'InternetService': 'DSL', 'OnlineSecurity': '...   \n",
       "1  {'InternetService': 'DSL', 'OnlineSecurity': '...   \n",
       "2  {'InternetService': 'Fiber optic', 'OnlineSecu...   \n",
       "3  {'InternetService': 'Fiber optic', 'OnlineSecu...   \n",
       "4  {'InternetService': 'Fiber optic', 'OnlineSecu...   \n",
       "\n",
       "                                             account  \n",
       "0  {'Contract': 'One year', 'PaperlessBilling': '...  \n",
       "1  {'Contract': 'Month-to-month', 'PaperlessBilli...  \n",
       "2  {'Contract': 'Month-to-month', 'PaperlessBilli...  \n",
       "3  {'Contract': 'Month-to-month', 'PaperlessBilli...  \n",
       "4  {'Contract': 'Month-to-month', 'PaperlessBilli...  "
      ]
     },
     "execution_count": 13,
     "metadata": {},
     "output_type": "execute_result"
    }
   ],
   "source": [
    "df.head()"
   ]
  },
  {
   "cell_type": "code",
   "execution_count": 14,
   "id": "34a32b74",
   "metadata": {},
   "outputs": [
    {
     "data": {
      "text/plain": [
       "['customerID', 'Churn', 'customer', 'phone', 'internet', 'account']"
      ]
     },
     "execution_count": 14,
     "metadata": {},
     "output_type": "execute_result"
    }
   ],
   "source": [
    "columnas = list(df.columns)\n",
    "columnas"
   ]
  },
  {
   "cell_type": "code",
   "execution_count": 30,
   "id": "c95e62bf",
   "metadata": {},
   "outputs": [],
   "source": [
    "df_normalizado = pd.json_normalize(df['customer'])\n",
    "#df_normalizado.to_json('customer_normalizado.json')"
   ]
  },
  {
   "cell_type": "code",
   "execution_count": null,
   "id": "8ad31295",
   "metadata": {},
   "outputs": [
    {
     "data": {
      "text/plain": [
       "(7267, 5)"
      ]
     },
     "execution_count": 16,
     "metadata": {},
     "output_type": "execute_result"
    }
   ],
   "source": [
    "df_normalizado"
   ]
  },
  {
   "cell_type": "code",
   "execution_count": 17,
   "id": "38d38d07",
   "metadata": {},
   "outputs": [],
   "source": [
    "df_normalizado_2 = pd.json_normalize(df['phone'])\n",
    "#df_normalizado_2.to_json('phone_normalizado.json')"
   ]
  },
  {
   "cell_type": "code",
   "execution_count": null,
   "id": "91887133",
   "metadata": {},
   "outputs": [
    {
     "data": {
      "text/plain": [
       "(7267, 2)"
      ]
     },
     "execution_count": 18,
     "metadata": {},
     "output_type": "execute_result"
    }
   ],
   "source": [
    "df_normalizado_2"
   ]
  },
  {
   "cell_type": "code",
   "execution_count": 24,
   "id": "b2c9163a",
   "metadata": {},
   "outputs": [],
   "source": [
    "df_normalizado_3 = pd.json_normalize(df['internet'])\n",
    "#df_normaizado_3.to_json('internet_normalizado.json')"
   ]
  },
  {
   "cell_type": "code",
   "execution_count": null,
   "id": "048927f4",
   "metadata": {},
   "outputs": [
    {
     "data": {
      "text/plain": [
       "(7267, 7)"
      ]
     },
     "execution_count": 25,
     "metadata": {},
     "output_type": "execute_result"
    }
   ],
   "source": [
    "df_normalizado_3"
   ]
  },
  {
   "cell_type": "code",
   "execution_count": 26,
   "id": "1f9b47ac",
   "metadata": {},
   "outputs": [],
   "source": [
    "df_normalizado_4 = pd.json_normalize(df['account'])\n",
    "#df_normalizado_4.to_json('account_normalizado.json')"
   ]
  },
  {
   "cell_type": "code",
   "execution_count": null,
   "id": "0cdb4a5e",
   "metadata": {},
   "outputs": [
    {
     "data": {
      "text/plain": [
       "(7267, 5)"
      ]
     },
     "execution_count": 27,
     "metadata": {},
     "output_type": "execute_result"
    }
   ],
   "source": [
    "df_normalizado_4"
   ]
  },
  {
   "cell_type": "code",
   "execution_count": null,
   "id": "9932b212",
   "metadata": {},
   "outputs": [],
   "source": [
    "df = df.drop(columns=['customer', 'phone', 'internet', 'account'])\n",
    "#df.to_json('telecomX_normalizado.json')"
   ]
  },
  {
   "cell_type": "code",
   "execution_count": 32,
   "id": "0af13245",
   "metadata": {},
   "outputs": [
    {
     "data": {
      "application/vnd.microsoft.datawrangler.viewer.v0+json": {
       "columns": [
        {
         "name": "index",
         "rawType": "int64",
         "type": "integer"
        },
        {
         "name": "customerID",
         "rawType": "object",
         "type": "string"
        },
        {
         "name": "Churn",
         "rawType": "object",
         "type": "string"
        }
       ],
       "ref": "5c19cbb4-ac46-481b-988a-7b64708e4311",
       "rows": [
        [
         "0",
         "0002-ORFBO",
         "No"
        ],
        [
         "1",
         "0003-MKNFE",
         "No"
        ],
        [
         "2",
         "0004-TLHLJ",
         "Yes"
        ],
        [
         "3",
         "0011-IGKFF",
         "Yes"
        ],
        [
         "4",
         "0013-EXCHZ",
         "Yes"
        ],
        [
         "5",
         "0013-MHZWF",
         "No"
        ],
        [
         "6",
         "0013-SMEOE",
         "No"
        ],
        [
         "7",
         "0014-BMAQU",
         "No"
        ],
        [
         "8",
         "0015-UOCOJ",
         "No"
        ],
        [
         "9",
         "0016-QLJIS",
         "No"
        ],
        [
         "10",
         "0017-DINOC",
         "No"
        ],
        [
         "11",
         "0017-IUDMW",
         "No"
        ],
        [
         "12",
         "0018-NYROU",
         "No"
        ],
        [
         "13",
         "0019-EFAEP",
         "No"
        ],
        [
         "14",
         "0019-GFNTW",
         "No"
        ],
        [
         "15",
         "0020-INWCK",
         "No"
        ],
        [
         "16",
         "0020-JDNXP",
         "No"
        ],
        [
         "17",
         "0021-IKXGC",
         "No"
        ],
        [
         "18",
         "0022-TCJCI",
         "Yes"
        ],
        [
         "19",
         "0023-HGHWL",
         "Yes"
        ],
        [
         "20",
         "0023-UYUPN",
         "No"
        ],
        [
         "21",
         "0023-XUOPT",
         "Yes"
        ],
        [
         "22",
         "0027-KWYKW",
         "No"
        ],
        [
         "23",
         "0030-FNXPP",
         "No"
        ],
        [
         "24",
         "0031-PVLZI",
         "Yes"
        ],
        [
         "25",
         "0032-PGELS",
         "Yes"
        ],
        [
         "26",
         "0036-IHMOT",
         "No"
        ],
        [
         "27",
         "0040-HALCW",
         "No"
        ],
        [
         "28",
         "0042-JVWOJ",
         "No"
        ],
        [
         "29",
         "0042-RLHYP",
         "No"
        ],
        [
         "30",
         "0047-ZHDTW",
         ""
        ],
        [
         "31",
         "0048-LUMLS",
         "No"
        ],
        [
         "32",
         "0048-PIHNL",
         "No"
        ],
        [
         "33",
         "0052-DCKON",
         "No"
        ],
        [
         "34",
         "0052-YNYOT",
         "No"
        ],
        [
         "35",
         "0056-EPFBG",
         "No"
        ],
        [
         "36",
         "0057-QBUQH",
         "No"
        ],
        [
         "37",
         "0058-EVZWM",
         "No"
        ],
        [
         "38",
         "0060-FUALY",
         "No"
        ],
        [
         "39",
         "0064-SUDOG",
         "No"
        ],
        [
         "40",
         "0064-YIJGF",
         "No"
        ],
        [
         "41",
         "0067-DKWBL",
         "Yes"
        ],
        [
         "42",
         "0068-FIGTF",
         "No"
        ],
        [
         "43",
         "0071-NDAFP",
         "No"
        ],
        [
         "44",
         "0074-HDKDG",
         "No"
        ],
        [
         "45",
         "0076-LVEPS",
         "No"
        ],
        [
         "46",
         "0078-XZMHT",
         "No"
        ],
        [
         "47",
         "0080-EMYVY",
         "No"
        ],
        [
         "48",
         "0080-OROZO",
         "No"
        ],
        [
         "49",
         "0082-LDZUE",
         "No"
        ]
       ],
       "shape": {
        "columns": 2,
        "rows": 7267
       }
      },
      "text/html": [
       "<div>\n",
       "<style scoped>\n",
       "    .dataframe tbody tr th:only-of-type {\n",
       "        vertical-align: middle;\n",
       "    }\n",
       "\n",
       "    .dataframe tbody tr th {\n",
       "        vertical-align: top;\n",
       "    }\n",
       "\n",
       "    .dataframe thead th {\n",
       "        text-align: right;\n",
       "    }\n",
       "</style>\n",
       "<table border=\"1\" class=\"dataframe\">\n",
       "  <thead>\n",
       "    <tr style=\"text-align: right;\">\n",
       "      <th></th>\n",
       "      <th>customerID</th>\n",
       "      <th>Churn</th>\n",
       "    </tr>\n",
       "  </thead>\n",
       "  <tbody>\n",
       "    <tr>\n",
       "      <th>0</th>\n",
       "      <td>0002-ORFBO</td>\n",
       "      <td>No</td>\n",
       "    </tr>\n",
       "    <tr>\n",
       "      <th>1</th>\n",
       "      <td>0003-MKNFE</td>\n",
       "      <td>No</td>\n",
       "    </tr>\n",
       "    <tr>\n",
       "      <th>2</th>\n",
       "      <td>0004-TLHLJ</td>\n",
       "      <td>Yes</td>\n",
       "    </tr>\n",
       "    <tr>\n",
       "      <th>3</th>\n",
       "      <td>0011-IGKFF</td>\n",
       "      <td>Yes</td>\n",
       "    </tr>\n",
       "    <tr>\n",
       "      <th>4</th>\n",
       "      <td>0013-EXCHZ</td>\n",
       "      <td>Yes</td>\n",
       "    </tr>\n",
       "    <tr>\n",
       "      <th>...</th>\n",
       "      <td>...</td>\n",
       "      <td>...</td>\n",
       "    </tr>\n",
       "    <tr>\n",
       "      <th>7262</th>\n",
       "      <td>9987-LUTYD</td>\n",
       "      <td>No</td>\n",
       "    </tr>\n",
       "    <tr>\n",
       "      <th>7263</th>\n",
       "      <td>9992-RRAMN</td>\n",
       "      <td>Yes</td>\n",
       "    </tr>\n",
       "    <tr>\n",
       "      <th>7264</th>\n",
       "      <td>9992-UJOEL</td>\n",
       "      <td>No</td>\n",
       "    </tr>\n",
       "    <tr>\n",
       "      <th>7265</th>\n",
       "      <td>9993-LHIEB</td>\n",
       "      <td>No</td>\n",
       "    </tr>\n",
       "    <tr>\n",
       "      <th>7266</th>\n",
       "      <td>9995-HOTOH</td>\n",
       "      <td>No</td>\n",
       "    </tr>\n",
       "  </tbody>\n",
       "</table>\n",
       "<p>7267 rows × 2 columns</p>\n",
       "</div>"
      ],
      "text/plain": [
       "      customerID Churn\n",
       "0     0002-ORFBO    No\n",
       "1     0003-MKNFE    No\n",
       "2     0004-TLHLJ   Yes\n",
       "3     0011-IGKFF   Yes\n",
       "4     0013-EXCHZ   Yes\n",
       "...          ...   ...\n",
       "7262  9987-LUTYD    No\n",
       "7263  9992-RRAMN   Yes\n",
       "7264  9992-UJOEL    No\n",
       "7265  9993-LHIEB    No\n",
       "7266  9995-HOTOH    No\n",
       "\n",
       "[7267 rows x 2 columns]"
      ]
     },
     "execution_count": 32,
     "metadata": {},
     "output_type": "execute_result"
    }
   ],
   "source": [
    "df = pd.read_json(r'C:\\Users\\Usuario\\Desktop\\proyectos\\Telecom-X\\data\\normalizada\\telecomX_normalizado.json')\n",
    "df"
   ]
  },
  {
   "cell_type": "code",
   "execution_count": null,
   "id": "c110d6d2",
   "metadata": {},
   "outputs": [],
   "source": []
  }
 ],
 "metadata": {
  "kernelspec": {
   "display_name": "base",
   "language": "python",
   "name": "python3"
  },
  "language_info": {
   "codemirror_mode": {
    "name": "ipython",
    "version": 3
   },
   "file_extension": ".py",
   "mimetype": "text/x-python",
   "name": "python",
   "nbconvert_exporter": "python",
   "pygments_lexer": "ipython3",
   "version": "3.12.7"
  }
 },
 "nbformat": 4,
 "nbformat_minor": 5
}
